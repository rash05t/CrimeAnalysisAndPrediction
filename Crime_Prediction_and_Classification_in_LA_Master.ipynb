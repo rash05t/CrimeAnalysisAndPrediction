{
  "cells": [
    {
      "cell_type": "code",
      "source": [
        "pip install wordcloud fbprophet"
      ],
      "metadata": {
        "colab": {
          "base_uri": "https://localhost:8080/"
        },
        "id": "eCaC8H9Jn0kK",
        "outputId": "1f14aa59-6577-4637-ee4c-0a4767986fbc"
      },
      "execution_count": null,
      "outputs": [
        {
          "output_type": "stream",
          "name": "stdout",
          "text": [
            "Looking in indexes: https://pypi.org/simple, https://us-python.pkg.dev/colab-wheels/public/simple/\n",
            "Requirement already satisfied: wordcloud in /usr/local/lib/python3.7/dist-packages (1.8.2.2)\n",
            "Collecting fbprophet\n",
            "  Downloading fbprophet-0.7.1.tar.gz (64 kB)\n",
            "\u001b[?25l\r\u001b[K     |█████▏                          | 10 kB 34.4 MB/s eta 0:00:01\r\u001b[K     |██████████▎                     | 20 kB 38.7 MB/s eta 0:00:01\r\u001b[K     |███████████████▍                | 30 kB 45.7 MB/s eta 0:00:01\r\u001b[K     |████████████████████▌           | 40 kB 27.4 MB/s eta 0:00:01\r\u001b[K     |█████████████████████████▋      | 51 kB 23.8 MB/s eta 0:00:01\r\u001b[K     |██████████████████████████████▊ | 61 kB 26.9 MB/s eta 0:00:01\r\u001b[K     |████████████████████████████████| 64 kB 3.1 MB/s \n",
            "\u001b[?25hRequirement already satisfied: numpy>=1.6.1 in /usr/local/lib/python3.7/dist-packages (from wordcloud) (1.21.6)\n",
            "Requirement already satisfied: matplotlib in /usr/local/lib/python3.7/dist-packages (from wordcloud) (3.2.2)\n",
            "Requirement already satisfied: pillow in /usr/local/lib/python3.7/dist-packages (from wordcloud) (7.1.2)\n",
            "Requirement already satisfied: Cython>=0.22 in /usr/local/lib/python3.7/dist-packages (from fbprophet) (0.29.32)\n",
            "Collecting cmdstanpy==0.9.5\n",
            "  Downloading cmdstanpy-0.9.5-py3-none-any.whl (37 kB)\n",
            "Requirement already satisfied: pystan>=2.14 in /usr/local/lib/python3.7/dist-packages (from fbprophet) (3.3.0)\n",
            "Requirement already satisfied: pandas>=1.0.4 in /usr/local/lib/python3.7/dist-packages (from fbprophet) (1.3.5)\n",
            "Requirement already satisfied: LunarCalendar>=0.0.9 in /usr/local/lib/python3.7/dist-packages (from fbprophet) (0.0.9)\n",
            "Requirement already satisfied: convertdate>=2.1.2 in /usr/local/lib/python3.7/dist-packages (from fbprophet) (2.4.0)\n",
            "Requirement already satisfied: holidays>=0.10.2 in /usr/local/lib/python3.7/dist-packages (from fbprophet) (0.16)\n",
            "Requirement already satisfied: setuptools-git>=1.2 in /usr/local/lib/python3.7/dist-packages (from fbprophet) (1.2)\n",
            "Requirement already satisfied: python-dateutil>=2.8.0 in /usr/local/lib/python3.7/dist-packages (from fbprophet) (2.8.2)\n",
            "Requirement already satisfied: tqdm>=4.36.1 in /usr/local/lib/python3.7/dist-packages (from fbprophet) (4.64.1)\n",
            "Requirement already satisfied: pymeeus<=1,>=0.3.13 in /usr/local/lib/python3.7/dist-packages (from convertdate>=2.1.2->fbprophet) (0.5.11)\n",
            "Requirement already satisfied: korean-lunar-calendar in /usr/local/lib/python3.7/dist-packages (from holidays>=0.10.2->fbprophet) (0.3.1)\n",
            "Requirement already satisfied: hijri-converter in /usr/local/lib/python3.7/dist-packages (from holidays>=0.10.2->fbprophet) (2.2.4)\n",
            "Requirement already satisfied: ephem>=3.7.5.3 in /usr/local/lib/python3.7/dist-packages (from LunarCalendar>=0.0.9->fbprophet) (4.1.3)\n",
            "Requirement already satisfied: pytz in /usr/local/lib/python3.7/dist-packages (from LunarCalendar>=0.0.9->fbprophet) (2022.5)\n",
            "Requirement already satisfied: kiwisolver>=1.0.1 in /usr/local/lib/python3.7/dist-packages (from matplotlib->wordcloud) (1.4.4)\n",
            "Requirement already satisfied: cycler>=0.10 in /usr/local/lib/python3.7/dist-packages (from matplotlib->wordcloud) (0.11.0)\n",
            "Requirement already satisfied: pyparsing!=2.0.4,!=2.1.2,!=2.1.6,>=2.0.1 in /usr/local/lib/python3.7/dist-packages (from matplotlib->wordcloud) (3.0.9)\n",
            "Requirement already satisfied: typing-extensions in /usr/local/lib/python3.7/dist-packages (from kiwisolver>=1.0.1->matplotlib->wordcloud) (4.1.1)\n",
            "Requirement already satisfied: pysimdjson<4.0,>=3.2 in /usr/local/lib/python3.7/dist-packages (from pystan>=2.14->fbprophet) (3.2.0)\n",
            "Requirement already satisfied: aiohttp<4.0,>=3.6 in /usr/local/lib/python3.7/dist-packages (from pystan>=2.14->fbprophet) (3.8.3)\n",
            "Requirement already satisfied: httpstan<4.7,>=4.6 in /usr/local/lib/python3.7/dist-packages (from pystan>=2.14->fbprophet) (4.6.1)\n",
            "Requirement already satisfied: clikit<0.7,>=0.6 in /usr/local/lib/python3.7/dist-packages (from pystan>=2.14->fbprophet) (0.6.2)\n",
            "Requirement already satisfied: attrs>=17.3.0 in /usr/local/lib/python3.7/dist-packages (from aiohttp<4.0,>=3.6->pystan>=2.14->fbprophet) (22.1.0)\n",
            "Requirement already satisfied: frozenlist>=1.1.1 in /usr/local/lib/python3.7/dist-packages (from aiohttp<4.0,>=3.6->pystan>=2.14->fbprophet) (1.3.1)\n",
            "Requirement already satisfied: yarl<2.0,>=1.0 in /usr/local/lib/python3.7/dist-packages (from aiohttp<4.0,>=3.6->pystan>=2.14->fbprophet) (1.8.1)\n",
            "Requirement already satisfied: asynctest==0.13.0 in /usr/local/lib/python3.7/dist-packages (from aiohttp<4.0,>=3.6->pystan>=2.14->fbprophet) (0.13.0)\n",
            "Requirement already satisfied: multidict<7.0,>=4.5 in /usr/local/lib/python3.7/dist-packages (from aiohttp<4.0,>=3.6->pystan>=2.14->fbprophet) (6.0.2)\n",
            "Requirement already satisfied: charset-normalizer<3.0,>=2.0 in /usr/local/lib/python3.7/dist-packages (from aiohttp<4.0,>=3.6->pystan>=2.14->fbprophet) (2.1.1)\n",
            "Requirement already satisfied: async-timeout<5.0,>=4.0.0a3 in /usr/local/lib/python3.7/dist-packages (from aiohttp<4.0,>=3.6->pystan>=2.14->fbprophet) (4.0.2)\n",
            "Requirement already satisfied: aiosignal>=1.1.2 in /usr/local/lib/python3.7/dist-packages (from aiohttp<4.0,>=3.6->pystan>=2.14->fbprophet) (1.2.0)\n",
            "Requirement already satisfied: pastel<0.3.0,>=0.2.0 in /usr/local/lib/python3.7/dist-packages (from clikit<0.7,>=0.6->pystan>=2.14->fbprophet) (0.2.1)\n",
            "Requirement already satisfied: pylev<2.0,>=1.3 in /usr/local/lib/python3.7/dist-packages (from clikit<0.7,>=0.6->pystan>=2.14->fbprophet) (1.4.0)\n",
            "Requirement already satisfied: crashtest<0.4.0,>=0.3.0 in /usr/local/lib/python3.7/dist-packages (from clikit<0.7,>=0.6->pystan>=2.14->fbprophet) (0.3.1)\n",
            "Requirement already satisfied: marshmallow<4.0,>=3.10 in /usr/local/lib/python3.7/dist-packages (from httpstan<4.7,>=4.6->pystan>=2.14->fbprophet) (3.18.0)\n",
            "Requirement already satisfied: webargs<9.0,>=8.0 in /usr/local/lib/python3.7/dist-packages (from httpstan<4.7,>=4.6->pystan>=2.14->fbprophet) (8.2.0)\n",
            "Requirement already satisfied: appdirs<2.0,>=1.4 in /usr/local/lib/python3.7/dist-packages (from httpstan<4.7,>=4.6->pystan>=2.14->fbprophet) (1.4.4)\n",
            "Requirement already satisfied: setuptools>=41.0 in /usr/local/lib/python3.7/dist-packages (from httpstan<4.7,>=4.6->pystan>=2.14->fbprophet) (57.4.0)\n",
            "Requirement already satisfied: packaging>=17.0 in /usr/local/lib/python3.7/dist-packages (from marshmallow<4.0,>=3.10->httpstan<4.7,>=4.6->pystan>=2.14->fbprophet) (21.3)\n",
            "Requirement already satisfied: six>=1.5 in /usr/local/lib/python3.7/dist-packages (from python-dateutil>=2.8.0->fbprophet) (1.15.0)\n",
            "Requirement already satisfied: idna>=2.0 in /usr/local/lib/python3.7/dist-packages (from yarl<2.0,>=1.0->aiohttp<4.0,>=3.6->pystan>=2.14->fbprophet) (2.10)\n",
            "Building wheels for collected packages: fbprophet\n",
            "  Building wheel for fbprophet (setup.py) ... \u001b[?25lerror\n",
            "\u001b[31m  ERROR: Failed building wheel for fbprophet\u001b[0m\n",
            "\u001b[?25h  Running setup.py clean for fbprophet\n",
            "Failed to build fbprophet\n",
            "Installing collected packages: cmdstanpy, fbprophet\n",
            "  Attempting uninstall: cmdstanpy\n",
            "    Found existing installation: cmdstanpy 1.0.7\n",
            "    Uninstalling cmdstanpy-1.0.7:\n",
            "      Successfully uninstalled cmdstanpy-1.0.7\n",
            "    Running setup.py install for fbprophet ... \u001b[?25l\u001b[?25herror\n",
            "\u001b[31mERROR: Command errored out with exit status 1: /usr/bin/python3 -u -c 'import io, os, sys, setuptools, tokenize; sys.argv[0] = '\"'\"'/tmp/pip-install-_qzjsf8d/fbprophet_e42dd76b4ee745f9ad7015c421cf9828/setup.py'\"'\"'; __file__='\"'\"'/tmp/pip-install-_qzjsf8d/fbprophet_e42dd76b4ee745f9ad7015c421cf9828/setup.py'\"'\"';f = getattr(tokenize, '\"'\"'open'\"'\"', open)(__file__) if os.path.exists(__file__) else io.StringIO('\"'\"'from setuptools import setup; setup()'\"'\"');code = f.read().replace('\"'\"'\\r\\n'\"'\"', '\"'\"'\\n'\"'\"');f.close();exec(compile(code, __file__, '\"'\"'exec'\"'\"'))' install --record /tmp/pip-record-ukub41um/install-record.txt --single-version-externally-managed --compile --install-headers /usr/local/include/python3.7/fbprophet Check the logs for full command output.\u001b[0m\n"
          ]
        }
      ]
    },
    {
      "cell_type": "code",
      "execution_count": null,
      "metadata": {
        "id": "UHNHfWti2ko4"
      },
      "outputs": [],
      "source": [
        "#Install the necessary packages\n",
        "\n",
        "#pip install wordcloud fbprophet\n",
        "\n",
        "import pandas as pd\n",
        "from shapely.geometry import  Point\n",
        "import matplotlib.pyplot as plt\n",
        "import numpy as np\n",
        "from sklearn.impute import SimpleImputer\n",
        "from sklearn.preprocessing import LabelEncoder\n",
        "from sklearn.model_selection import train_test_split\n",
        "import seaborn as sns\n",
        "from matplotlib import cm\n",
        "import urllib.request\n",
        "import shutil\n",
        "import zipfile\n",
        "import os\n",
        "import re\n",
        "import lightgbm as lgb\n",
        "from lightgbm import LGBMClassifier\n",
        "from matplotlib import pyplot as plt\n",
        "import numpy as np\n",
        "from wordcloud import WordCloud\n",
        "from sklearn.linear_model import LogisticRegression\n",
        "from sklearn.metrics import confusion_matrix\n",
        "from sklearn.metrics import accuracy_score\n",
        "from sklearn.ensemble import RandomForestClassifier\n",
        "from sklearn.neighbors import KNeighborsClassifier\n",
        "from fbprophet import Prophet\n",
        "from fbprophet.diagnostics import cross_validation, performance_metrics\n",
        "from fbprophet.plot import plot_cross_validation_metric"
      ]
    },
    {
      "cell_type": "code",
      "execution_count": null,
      "metadata": {
        "colab": {
          "base_uri": "https://localhost:8080/"
        },
        "id": "meql-8Ca5dcw",
        "outputId": "fe11d803-2df0-44a7-e90a-3c63bffc7141"
      },
      "outputs": [
        {
          "name": "stdout",
          "output_type": "stream",
          "text": [
            "Drive already mounted at /content/drive/; to attempt to forcibly remount, call drive.mount(\"/content/drive/\", force_remount=True).\n"
          ]
        }
      ],
      "source": [
        "drive.mount('/content/drive/')"
      ]
    },
    {
      "cell_type": "code",
      "source": [
        "from google.colab import drive\n",
        "drive.mount('/content/drive')"
      ],
      "metadata": {
        "id": "iCYVIDguokla"
      },
      "execution_count": null,
      "outputs": []
    },
    {
      "cell_type": "code",
      "execution_count": null,
      "metadata": {
        "id": "yg8tsyBe9gO5"
      },
      "outputs": [],
      "source": [
        "#reading the data into a dataframe\n",
        "crime_data1_df=pd.read_csv('/content/drive/MyDrive/Crime_Data_from_2010_to_2019.csv') #data from 2010-2019\n",
        "crime_data2_df=pd.read_csv('/content/drive/MyDrive/Crime_Data_from_2020_to_Present.csv') #data from 2020-Present"
      ]
    },
    {
      "cell_type": "code",
      "execution_count": null,
      "metadata": {
        "colab": {
          "base_uri": "https://localhost:8080/",
          "height": 401
        },
        "id": "jmAeTzy5-py5",
        "outputId": "ea077f6f-6691-4271-ef76-567493c9caf8"
      },
      "outputs": [
        {
          "data": {
            "text/html": [
              "\n",
              "  <div id=\"df-2f23c45e-6f16-435e-b351-0288fc0167a7\">\n",
              "    <div class=\"colab-df-container\">\n",
              "      <div>\n",
              "<style scoped>\n",
              "    .dataframe tbody tr th:only-of-type {\n",
              "        vertical-align: middle;\n",
              "    }\n",
              "\n",
              "    .dataframe tbody tr th {\n",
              "        vertical-align: top;\n",
              "    }\n",
              "\n",
              "    .dataframe thead th {\n",
              "        text-align: right;\n",
              "    }\n",
              "</style>\n",
              "<table border=\"1\" class=\"dataframe\">\n",
              "  <thead>\n",
              "    <tr style=\"text-align: right;\">\n",
              "      <th></th>\n",
              "      <th>DR_NO</th>\n",
              "      <th>Date Rptd</th>\n",
              "      <th>DATE OCC</th>\n",
              "      <th>TIME OCC</th>\n",
              "      <th>AREA</th>\n",
              "      <th>AREA NAME</th>\n",
              "      <th>Rpt Dist No</th>\n",
              "      <th>Part 1-2</th>\n",
              "      <th>Crm Cd</th>\n",
              "      <th>Crm Cd Desc</th>\n",
              "      <th>...</th>\n",
              "      <th>Status Desc</th>\n",
              "      <th>Crm Cd 1</th>\n",
              "      <th>Crm Cd 2</th>\n",
              "      <th>Crm Cd 3</th>\n",
              "      <th>Crm Cd 4</th>\n",
              "      <th>LOCATION</th>\n",
              "      <th>Cross Street</th>\n",
              "      <th>LAT</th>\n",
              "      <th>LON</th>\n",
              "      <th>AREA</th>\n",
              "    </tr>\n",
              "  </thead>\n",
              "  <tbody>\n",
              "    <tr>\n",
              "      <th>0</th>\n",
              "      <td>1307355</td>\n",
              "      <td>02/20/2010 12:00:00 AM</td>\n",
              "      <td>02/20/2010 12:00:00 AM</td>\n",
              "      <td>1350</td>\n",
              "      <td>13.0</td>\n",
              "      <td>Newton</td>\n",
              "      <td>1385</td>\n",
              "      <td>2</td>\n",
              "      <td>900</td>\n",
              "      <td>VIOLATION OF COURT ORDER</td>\n",
              "      <td>...</td>\n",
              "      <td>Adult Arrest</td>\n",
              "      <td>900.0</td>\n",
              "      <td>NaN</td>\n",
              "      <td>NaN</td>\n",
              "      <td>NaN</td>\n",
              "      <td>300 E  GAGE                         AV</td>\n",
              "      <td>NaN</td>\n",
              "      <td>33.9825</td>\n",
              "      <td>-118.2695</td>\n",
              "      <td>NaN</td>\n",
              "    </tr>\n",
              "    <tr>\n",
              "      <th>1</th>\n",
              "      <td>11401303</td>\n",
              "      <td>09/13/2010 12:00:00 AM</td>\n",
              "      <td>09/12/2010 12:00:00 AM</td>\n",
              "      <td>45</td>\n",
              "      <td>14.0</td>\n",
              "      <td>Pacific</td>\n",
              "      <td>1485</td>\n",
              "      <td>2</td>\n",
              "      <td>740</td>\n",
              "      <td>VANDALISM - FELONY ($400 &amp; OVER, ALL CHURCH VA...</td>\n",
              "      <td>...</td>\n",
              "      <td>Invest Cont</td>\n",
              "      <td>740.0</td>\n",
              "      <td>NaN</td>\n",
              "      <td>NaN</td>\n",
              "      <td>NaN</td>\n",
              "      <td>SEPULVEDA                    BL</td>\n",
              "      <td>MANCHESTER                   AV</td>\n",
              "      <td>33.9599</td>\n",
              "      <td>-118.3962</td>\n",
              "      <td>NaN</td>\n",
              "    </tr>\n",
              "    <tr>\n",
              "      <th>2</th>\n",
              "      <td>70309629</td>\n",
              "      <td>08/09/2010 12:00:00 AM</td>\n",
              "      <td>08/09/2010 12:00:00 AM</td>\n",
              "      <td>1515</td>\n",
              "      <td>13.0</td>\n",
              "      <td>Newton</td>\n",
              "      <td>1324</td>\n",
              "      <td>2</td>\n",
              "      <td>946</td>\n",
              "      <td>OTHER MISCELLANEOUS CRIME</td>\n",
              "      <td>...</td>\n",
              "      <td>Invest Cont</td>\n",
              "      <td>946.0</td>\n",
              "      <td>NaN</td>\n",
              "      <td>NaN</td>\n",
              "      <td>NaN</td>\n",
              "      <td>1300 E  21ST                         ST</td>\n",
              "      <td>NaN</td>\n",
              "      <td>34.0224</td>\n",
              "      <td>-118.2524</td>\n",
              "      <td>NaN</td>\n",
              "    </tr>\n",
              "    <tr>\n",
              "      <th>3</th>\n",
              "      <td>90631215</td>\n",
              "      <td>01/05/2010 12:00:00 AM</td>\n",
              "      <td>01/05/2010 12:00:00 AM</td>\n",
              "      <td>150</td>\n",
              "      <td>6.0</td>\n",
              "      <td>Hollywood</td>\n",
              "      <td>646</td>\n",
              "      <td>2</td>\n",
              "      <td>900</td>\n",
              "      <td>VIOLATION OF COURT ORDER</td>\n",
              "      <td>...</td>\n",
              "      <td>Invest Cont</td>\n",
              "      <td>900.0</td>\n",
              "      <td>998.0</td>\n",
              "      <td>NaN</td>\n",
              "      <td>NaN</td>\n",
              "      <td>CAHUENGA                     BL</td>\n",
              "      <td>HOLLYWOOD                    BL</td>\n",
              "      <td>34.1016</td>\n",
              "      <td>-118.3295</td>\n",
              "      <td>NaN</td>\n",
              "    </tr>\n",
              "    <tr>\n",
              "      <th>4</th>\n",
              "      <td>100100501</td>\n",
              "      <td>01/03/2010 12:00:00 AM</td>\n",
              "      <td>01/02/2010 12:00:00 AM</td>\n",
              "      <td>2100</td>\n",
              "      <td>1.0</td>\n",
              "      <td>Central</td>\n",
              "      <td>176</td>\n",
              "      <td>1</td>\n",
              "      <td>122</td>\n",
              "      <td>RAPE, ATTEMPTED</td>\n",
              "      <td>...</td>\n",
              "      <td>Invest Cont</td>\n",
              "      <td>122.0</td>\n",
              "      <td>NaN</td>\n",
              "      <td>NaN</td>\n",
              "      <td>NaN</td>\n",
              "      <td>8TH                          ST</td>\n",
              "      <td>SAN PEDRO                    ST</td>\n",
              "      <td>34.0387</td>\n",
              "      <td>-118.2488</td>\n",
              "      <td>NaN</td>\n",
              "    </tr>\n",
              "  </tbody>\n",
              "</table>\n",
              "<p>5 rows × 29 columns</p>\n",
              "</div>\n",
              "      <button class=\"colab-df-convert\" onclick=\"convertToInteractive('df-2f23c45e-6f16-435e-b351-0288fc0167a7')\"\n",
              "              title=\"Convert this dataframe to an interactive table.\"\n",
              "              style=\"display:none;\">\n",
              "        \n",
              "  <svg xmlns=\"http://www.w3.org/2000/svg\" height=\"24px\"viewBox=\"0 0 24 24\"\n",
              "       width=\"24px\">\n",
              "    <path d=\"M0 0h24v24H0V0z\" fill=\"none\"/>\n",
              "    <path d=\"M18.56 5.44l.94 2.06.94-2.06 2.06-.94-2.06-.94-.94-2.06-.94 2.06-2.06.94zm-11 1L8.5 8.5l.94-2.06 2.06-.94-2.06-.94L8.5 2.5l-.94 2.06-2.06.94zm10 10l.94 2.06.94-2.06 2.06-.94-2.06-.94-.94-2.06-.94 2.06-2.06.94z\"/><path d=\"M17.41 7.96l-1.37-1.37c-.4-.4-.92-.59-1.43-.59-.52 0-1.04.2-1.43.59L10.3 9.45l-7.72 7.72c-.78.78-.78 2.05 0 2.83L4 21.41c.39.39.9.59 1.41.59.51 0 1.02-.2 1.41-.59l7.78-7.78 2.81-2.81c.8-.78.8-2.07 0-2.86zM5.41 20L4 18.59l7.72-7.72 1.47 1.35L5.41 20z\"/>\n",
              "  </svg>\n",
              "      </button>\n",
              "      \n",
              "  <style>\n",
              "    .colab-df-container {\n",
              "      display:flex;\n",
              "      flex-wrap:wrap;\n",
              "      gap: 12px;\n",
              "    }\n",
              "\n",
              "    .colab-df-convert {\n",
              "      background-color: #E8F0FE;\n",
              "      border: none;\n",
              "      border-radius: 50%;\n",
              "      cursor: pointer;\n",
              "      display: none;\n",
              "      fill: #1967D2;\n",
              "      height: 32px;\n",
              "      padding: 0 0 0 0;\n",
              "      width: 32px;\n",
              "    }\n",
              "\n",
              "    .colab-df-convert:hover {\n",
              "      background-color: #E2EBFA;\n",
              "      box-shadow: 0px 1px 2px rgba(60, 64, 67, 0.3), 0px 1px 3px 1px rgba(60, 64, 67, 0.15);\n",
              "      fill: #174EA6;\n",
              "    }\n",
              "\n",
              "    [theme=dark] .colab-df-convert {\n",
              "      background-color: #3B4455;\n",
              "      fill: #D2E3FC;\n",
              "    }\n",
              "\n",
              "    [theme=dark] .colab-df-convert:hover {\n",
              "      background-color: #434B5C;\n",
              "      box-shadow: 0px 1px 3px 1px rgba(0, 0, 0, 0.15);\n",
              "      filter: drop-shadow(0px 1px 2px rgba(0, 0, 0, 0.3));\n",
              "      fill: #FFFFFF;\n",
              "    }\n",
              "  </style>\n",
              "\n",
              "      <script>\n",
              "        const buttonEl =\n",
              "          document.querySelector('#df-2f23c45e-6f16-435e-b351-0288fc0167a7 button.colab-df-convert');\n",
              "        buttonEl.style.display =\n",
              "          google.colab.kernel.accessAllowed ? 'block' : 'none';\n",
              "\n",
              "        async function convertToInteractive(key) {\n",
              "          const element = document.querySelector('#df-2f23c45e-6f16-435e-b351-0288fc0167a7');\n",
              "          const dataTable =\n",
              "            await google.colab.kernel.invokeFunction('convertToInteractive',\n",
              "                                                     [key], {});\n",
              "          if (!dataTable) return;\n",
              "\n",
              "          const docLinkHtml = 'Like what you see? Visit the ' +\n",
              "            '<a target=\"_blank\" href=https://colab.research.google.com/notebooks/data_table.ipynb>data table notebook</a>'\n",
              "            + ' to learn more about interactive tables.';\n",
              "          element.innerHTML = '';\n",
              "          dataTable['output_type'] = 'display_data';\n",
              "          await google.colab.output.renderOutput(dataTable, element);\n",
              "          const docLink = document.createElement('div');\n",
              "          docLink.innerHTML = docLinkHtml;\n",
              "          element.appendChild(docLink);\n",
              "        }\n",
              "      </script>\n",
              "    </div>\n",
              "  </div>\n",
              "  "
            ],
            "text/plain": [
              "       DR_NO               Date Rptd                DATE OCC  TIME OCC  AREA   \\\n",
              "0    1307355  02/20/2010 12:00:00 AM  02/20/2010 12:00:00 AM      1350   13.0   \n",
              "1   11401303  09/13/2010 12:00:00 AM  09/12/2010 12:00:00 AM        45   14.0   \n",
              "2   70309629  08/09/2010 12:00:00 AM  08/09/2010 12:00:00 AM      1515   13.0   \n",
              "3   90631215  01/05/2010 12:00:00 AM  01/05/2010 12:00:00 AM       150    6.0   \n",
              "4  100100501  01/03/2010 12:00:00 AM  01/02/2010 12:00:00 AM      2100    1.0   \n",
              "\n",
              "   AREA NAME  Rpt Dist No  Part 1-2  Crm Cd  \\\n",
              "0     Newton         1385         2     900   \n",
              "1    Pacific         1485         2     740   \n",
              "2     Newton         1324         2     946   \n",
              "3  Hollywood          646         2     900   \n",
              "4    Central          176         1     122   \n",
              "\n",
              "                                         Crm Cd Desc  ...   Status Desc  \\\n",
              "0                           VIOLATION OF COURT ORDER  ...  Adult Arrest   \n",
              "1  VANDALISM - FELONY ($400 & OVER, ALL CHURCH VA...  ...   Invest Cont   \n",
              "2                          OTHER MISCELLANEOUS CRIME  ...   Invest Cont   \n",
              "3                           VIOLATION OF COURT ORDER  ...   Invest Cont   \n",
              "4                                    RAPE, ATTEMPTED  ...   Invest Cont   \n",
              "\n",
              "   Crm Cd 1 Crm Cd 2 Crm Cd 3  Crm Cd 4  \\\n",
              "0     900.0      NaN      NaN       NaN   \n",
              "1     740.0      NaN      NaN       NaN   \n",
              "2     946.0      NaN      NaN       NaN   \n",
              "3     900.0    998.0      NaN       NaN   \n",
              "4     122.0      NaN      NaN       NaN   \n",
              "\n",
              "                                  LOCATION                     Cross Street  \\\n",
              "0   300 E  GAGE                         AV                              NaN   \n",
              "1          SEPULVEDA                    BL  MANCHESTER                   AV   \n",
              "2  1300 E  21ST                         ST                              NaN   \n",
              "3          CAHUENGA                     BL  HOLLYWOOD                    BL   \n",
              "4          8TH                          ST  SAN PEDRO                    ST   \n",
              "\n",
              "       LAT       LON AREA  \n",
              "0  33.9825 -118.2695  NaN  \n",
              "1  33.9599 -118.3962  NaN  \n",
              "2  34.0224 -118.2524  NaN  \n",
              "3  34.1016 -118.3295  NaN  \n",
              "4  34.0387 -118.2488  NaN  \n",
              "\n",
              "[5 rows x 29 columns]"
            ]
          },
          "execution_count": 99,
          "metadata": {},
          "output_type": "execute_result"
        }
      ],
      "source": [
        "#concat the two dataframes\n",
        "crime_data=pd.concat([crime_data1_df,crime_data2_df])\n",
        "crime_data.head()"
      ]
    },
    {
      "cell_type": "markdown",
      "metadata": {
        "id": "_KWdPzw_cAS1"
      },
      "source": [
        "**Data Cleaning**"
      ]
    },
    {
      "cell_type": "code",
      "execution_count": null,
      "metadata": {
        "colab": {
          "base_uri": "https://localhost:8080/"
        },
        "id": "39ruclmeOnEr",
        "outputId": "9851b112-2f02-47f3-f643-b4b8ea5ad798"
      },
      "outputs": [
        {
          "data": {
            "text/plain": [
              "(2444416, 29)"
            ]
          },
          "execution_count": 100,
          "metadata": {},
          "output_type": "execute_result"
        }
      ],
      "source": [
        "#Checking the number of rows and columns in the dataset\n",
        "crime_data.shape"
      ]
    },
    {
      "cell_type": "code",
      "execution_count": null,
      "metadata": {
        "colab": {
          "base_uri": "https://localhost:8080/"
        },
        "id": "FIzI2cAHObib",
        "outputId": "8ba57e5b-1b0b-410f-a4db-a39920a66ea0"
      },
      "outputs": [
        {
          "data": {
            "text/plain": [
              "Index(['DR_NO', 'Date Rptd', 'DATE OCC', 'TIME OCC', 'AREA ', 'AREA NAME',\n",
              "       'Rpt Dist No', 'Part 1-2', 'Crm Cd', 'Crm Cd Desc', 'Mocodes',\n",
              "       'Vict Age', 'Vict Sex', 'Vict Descent', 'Premis Cd', 'Premis Desc',\n",
              "       'Weapon Used Cd', 'Weapon Desc', 'Status', 'Status Desc', 'Crm Cd 1',\n",
              "       'Crm Cd 2', 'Crm Cd 3', 'Crm Cd 4', 'LOCATION', 'Cross Street', 'LAT',\n",
              "       'LON', 'AREA'],\n",
              "      dtype='object')"
            ]
          },
          "execution_count": 101,
          "metadata": {},
          "output_type": "execute_result"
        }
      ],
      "source": [
        "#Look at all he columns to get an idea of what data we have\n",
        "crime_data.columns"
      ]
    },
    {
      "cell_type": "code",
      "execution_count": null,
      "metadata": {
        "colab": {
          "base_uri": "https://localhost:8080/"
        },
        "id": "_yN1qzg3C_NH",
        "outputId": "813a2370-af14-479f-9683-0dd96fb6fa8e"
      },
      "outputs": [
        {
          "data": {
            "text/plain": [
              "DR_NO               int64\n",
              "Date Rptd          object\n",
              "DATE OCC           object\n",
              "TIME OCC            int64\n",
              "AREA              float64\n",
              "AREA NAME          object\n",
              "Rpt Dist No         int64\n",
              "Part 1-2            int64\n",
              "Crm Cd              int64\n",
              "Crm Cd Desc        object\n",
              "Mocodes            object\n",
              "Vict Age            int64\n",
              "Vict Sex           object\n",
              "Vict Descent       object\n",
              "Premis Cd         float64\n",
              "Premis Desc        object\n",
              "Weapon Used Cd    float64\n",
              "Weapon Desc        object\n",
              "Status             object\n",
              "Status Desc        object\n",
              "Crm Cd 1          float64\n",
              "Crm Cd 2          float64\n",
              "Crm Cd 3          float64\n",
              "Crm Cd 4          float64\n",
              "LOCATION           object\n",
              "Cross Street       object\n",
              "LAT               float64\n",
              "LON               float64\n",
              "AREA              float64\n",
              "dtype: object"
            ]
          },
          "execution_count": 102,
          "metadata": {},
          "output_type": "execute_result"
        }
      ],
      "source": [
        "#View the data types\n",
        "crime_data.dtypes"
      ]
    },
    {
      "cell_type": "code",
      "execution_count": null,
      "metadata": {
        "colab": {
          "base_uri": "https://localhost:8080/"
        },
        "id": "4QuVE90uwvpq",
        "outputId": "abb4ad57-95ea-46c9-f4ea-b102ab42869c"
      },
      "outputs": [
        {
          "data": {
            "text/plain": [
              " 0      449277\n",
              " 25      54639\n",
              " 26      54257\n",
              " 27      53871\n",
              " 28      53612\n",
              "         ...  \n",
              "-10          2\n",
              "-11          1\n",
              " 114         1\n",
              " 118         1\n",
              " 120         1\n",
              "Name: Vict Age, Length: 113, dtype: int64"
            ]
          },
          "execution_count": 103,
          "metadata": {},
          "output_type": "execute_result"
        }
      ],
      "source": [
        "#Checking the ages to identify variations\n",
        "crime_data['Vict Age'].value_counts()"
      ]
    },
    {
      "cell_type": "code",
      "execution_count": null,
      "metadata": {
        "id": "Nntdg1fYwqPE"
      },
      "outputs": [],
      "source": [
        "#Removing ages<0\n",
        "crime_data=crime_data[crime_data['Vict Age']>0]"
      ]
    },
    {
      "cell_type": "code",
      "execution_count": null,
      "metadata": {
        "colab": {
          "base_uri": "https://localhost:8080/"
        },
        "id": "Oy-E5WkAxWDM",
        "outputId": "7b2ee7dc-cae0-4d6d-e334-8776e2567ce4"
      },
      "outputs": [
        {
          "data": {
            "text/plain": [
              "34.1016    13581\n",
              "34.2012    10690\n",
              "34.1867     8121\n",
              "34.1939     7512\n",
              "34.0980     7345\n",
              "           ...  \n",
              "33.8671        1\n",
              "33.8340        1\n",
              "33.8593        1\n",
              "33.7586        1\n",
              "33.7390        1\n",
              "Name: LAT, Length: 5559, dtype: int64"
            ]
          },
          "execution_count": 105,
          "metadata": {},
          "output_type": "execute_result"
        }
      ],
      "source": [
        "#Checking the latitude and longitude of LA\n",
        "crime_data['LAT'].value_counts()"
      ]
    },
    {
      "cell_type": "code",
      "execution_count": null,
      "metadata": {
        "colab": {
          "base_uri": "https://localhost:8080/"
        },
        "id": "IgO5397_xZK8",
        "outputId": "b3e58fb7-0150-48ce-943f-5a46ecf4ef66"
      },
      "outputs": [
        {
          "data": {
            "text/plain": [
              "-118.2739    18441\n",
              "-118.2827    13402\n",
              "-118.2915    12499\n",
              "-118.3089    11195\n",
              "-118.2652     9740\n",
              "             ...  \n",
              "-117.8945        1\n",
              "-118.1114        1\n",
              "-118.1583        1\n",
              "-118.1404        1\n",
              "-118.6011        1\n",
              "Name: LON, Length: 5124, dtype: int64"
            ]
          },
          "execution_count": 106,
          "metadata": {},
          "output_type": "execute_result"
        }
      ],
      "source": [
        "crime_data['LON'].value_counts()"
      ]
    },
    {
      "cell_type": "code",
      "execution_count": null,
      "metadata": {
        "colab": {
          "base_uri": "https://localhost:8080/",
          "height": 676
        },
        "id": "MggJLoFyyvNK",
        "outputId": "9ba3f985-6af5-41f5-d94f-44c8e687236c"
      },
      "outputs": [
        {
          "data": {
            "text/html": [
              "\n",
              "  <div id=\"df-1f759712-78f8-4a47-939b-7da14d774fd1\">\n",
              "    <div class=\"colab-df-container\">\n",
              "      <div>\n",
              "<style scoped>\n",
              "    .dataframe tbody tr th:only-of-type {\n",
              "        vertical-align: middle;\n",
              "    }\n",
              "\n",
              "    .dataframe tbody tr th {\n",
              "        vertical-align: top;\n",
              "    }\n",
              "\n",
              "    .dataframe thead th {\n",
              "        text-align: right;\n",
              "    }\n",
              "</style>\n",
              "<table border=\"1\" class=\"dataframe\">\n",
              "  <thead>\n",
              "    <tr style=\"text-align: right;\">\n",
              "      <th></th>\n",
              "      <th>DR_NO</th>\n",
              "      <th>Date Rptd</th>\n",
              "      <th>DATE OCC</th>\n",
              "      <th>TIME OCC</th>\n",
              "      <th>AREA</th>\n",
              "      <th>AREA NAME</th>\n",
              "      <th>Rpt Dist No</th>\n",
              "      <th>Part 1-2</th>\n",
              "      <th>Crm Cd</th>\n",
              "      <th>Crm Cd Desc</th>\n",
              "      <th>...</th>\n",
              "      <th>Status Desc</th>\n",
              "      <th>Crm Cd 1</th>\n",
              "      <th>Crm Cd 2</th>\n",
              "      <th>Crm Cd 3</th>\n",
              "      <th>Crm Cd 4</th>\n",
              "      <th>LOCATION</th>\n",
              "      <th>Cross Street</th>\n",
              "      <th>LAT</th>\n",
              "      <th>LON</th>\n",
              "      <th>AREA</th>\n",
              "    </tr>\n",
              "  </thead>\n",
              "  <tbody>\n",
              "    <tr>\n",
              "      <th>49703</th>\n",
              "      <td>100618355</td>\n",
              "      <td>07/14/2010 12:00:00 AM</td>\n",
              "      <td>07/12/2010 12:00:00 AM</td>\n",
              "      <td>1900</td>\n",
              "      <td>6.0</td>\n",
              "      <td>Hollywood</td>\n",
              "      <td>665</td>\n",
              "      <td>1</td>\n",
              "      <td>330</td>\n",
              "      <td>BURGLARY FROM VEHICLE</td>\n",
              "      <td>...</td>\n",
              "      <td>Invest Cont</td>\n",
              "      <td>330.0</td>\n",
              "      <td>NaN</td>\n",
              "      <td>NaN</td>\n",
              "      <td>NaN</td>\n",
              "      <td>900 N  CISTRUS                      AV</td>\n",
              "      <td>NaN</td>\n",
              "      <td>0.0</td>\n",
              "      <td>0.0</td>\n",
              "      <td>NaN</td>\n",
              "    </tr>\n",
              "    <tr>\n",
              "      <th>60870</th>\n",
              "      <td>100718479</td>\n",
              "      <td>11/29/2010 12:00:00 AM</td>\n",
              "      <td>11/29/2010 12:00:00 AM</td>\n",
              "      <td>1630</td>\n",
              "      <td>7.0</td>\n",
              "      <td>Wilshire</td>\n",
              "      <td>709</td>\n",
              "      <td>1</td>\n",
              "      <td>230</td>\n",
              "      <td>ASSAULT WITH DEADLY WEAPON, AGGRAVATED ASSAULT</td>\n",
              "      <td>...</td>\n",
              "      <td>Invest Cont</td>\n",
              "      <td>230.0</td>\n",
              "      <td>998.0</td>\n",
              "      <td>NaN</td>\n",
              "      <td>NaN</td>\n",
              "      <td>HARBOR</td>\n",
              "      <td>CLINTON</td>\n",
              "      <td>0.0</td>\n",
              "      <td>0.0</td>\n",
              "      <td>NaN</td>\n",
              "    </tr>\n",
              "    <tr>\n",
              "      <th>85026</th>\n",
              "      <td>101016365</td>\n",
              "      <td>09/09/2010 12:00:00 AM</td>\n",
              "      <td>08/23/2010 12:00:00 AM</td>\n",
              "      <td>1500</td>\n",
              "      <td>10.0</td>\n",
              "      <td>West Valley</td>\n",
              "      <td>1000</td>\n",
              "      <td>2</td>\n",
              "      <td>626</td>\n",
              "      <td>INTIMATE PARTNER - SIMPLE ASSAULT</td>\n",
              "      <td>...</td>\n",
              "      <td>Invest Cont</td>\n",
              "      <td>626.0</td>\n",
              "      <td>NaN</td>\n",
              "      <td>NaN</td>\n",
              "      <td>NaN</td>\n",
              "      <td>CITY OF WINNETKA</td>\n",
              "      <td>CITY OF WINNETKA</td>\n",
              "      <td>0.0</td>\n",
              "      <td>0.0</td>\n",
              "      <td>NaN</td>\n",
              "    </tr>\n",
              "    <tr>\n",
              "      <th>205973</th>\n",
              "      <td>120215454</td>\n",
              "      <td>07/31/2012 12:00:00 AM</td>\n",
              "      <td>01/01/2010 12:00:00 AM</td>\n",
              "      <td>1400</td>\n",
              "      <td>2.0</td>\n",
              "      <td>Rampart</td>\n",
              "      <td>289</td>\n",
              "      <td>2</td>\n",
              "      <td>812</td>\n",
              "      <td>CRM AGNST CHLD (13 OR UNDER) (14-15 &amp; SUSP 10 ...</td>\n",
              "      <td>...</td>\n",
              "      <td>Invest Cont</td>\n",
              "      <td>812.0</td>\n",
              "      <td>NaN</td>\n",
              "      <td>NaN</td>\n",
              "      <td>NaN</td>\n",
              "      <td>1100 S  UNION                        AV</td>\n",
              "      <td>NaN</td>\n",
              "      <td>0.0</td>\n",
              "      <td>0.0</td>\n",
              "      <td>NaN</td>\n",
              "    </tr>\n",
              "    <tr>\n",
              "      <th>206921</th>\n",
              "      <td>122113857</td>\n",
              "      <td>07/30/2012 12:00:00 AM</td>\n",
              "      <td>03/18/2010 12:00:00 AM</td>\n",
              "      <td>1300</td>\n",
              "      <td>21.0</td>\n",
              "      <td>Topanga</td>\n",
              "      <td>2197</td>\n",
              "      <td>1</td>\n",
              "      <td>341</td>\n",
              "      <td>THEFT-GRAND ($950.01 &amp; OVER)EXCPT,GUNS,FOWL,LI...</td>\n",
              "      <td>...</td>\n",
              "      <td>Invest Cont</td>\n",
              "      <td>341.0</td>\n",
              "      <td>NaN</td>\n",
              "      <td>NaN</td>\n",
              "      <td>NaN</td>\n",
              "      <td>4800    QUEEN VICTORIA               RD</td>\n",
              "      <td>NaN</td>\n",
              "      <td>0.0</td>\n",
              "      <td>0.0</td>\n",
              "      <td>NaN</td>\n",
              "    </tr>\n",
              "    <tr>\n",
              "      <th>...</th>\n",
              "      <td>...</td>\n",
              "      <td>...</td>\n",
              "      <td>...</td>\n",
              "      <td>...</td>\n",
              "      <td>...</td>\n",
              "      <td>...</td>\n",
              "      <td>...</td>\n",
              "      <td>...</td>\n",
              "      <td>...</td>\n",
              "      <td>...</td>\n",
              "      <td>...</td>\n",
              "      <td>...</td>\n",
              "      <td>...</td>\n",
              "      <td>...</td>\n",
              "      <td>...</td>\n",
              "      <td>...</td>\n",
              "      <td>...</td>\n",
              "      <td>...</td>\n",
              "      <td>...</td>\n",
              "      <td>...</td>\n",
              "      <td>...</td>\n",
              "    </tr>\n",
              "    <tr>\n",
              "      <th>325674</th>\n",
              "      <td>211011175</td>\n",
              "      <td>08/11/2021 12:00:00 AM</td>\n",
              "      <td>08/11/2021 12:00:00 AM</td>\n",
              "      <td>1330</td>\n",
              "      <td>NaN</td>\n",
              "      <td>West Valley</td>\n",
              "      <td>1023</td>\n",
              "      <td>2</td>\n",
              "      <td>626</td>\n",
              "      <td>INTIMATE PARTNER - SIMPLE ASSAULT</td>\n",
              "      <td>...</td>\n",
              "      <td>Invest Cont</td>\n",
              "      <td>626.0</td>\n",
              "      <td>NaN</td>\n",
              "      <td>NaN</td>\n",
              "      <td>NaN</td>\n",
              "      <td>19200    HAYNES                       ST</td>\n",
              "      <td>NaN</td>\n",
              "      <td>0.0</td>\n",
              "      <td>0.0</td>\n",
              "      <td>10.0</td>\n",
              "    </tr>\n",
              "    <tr>\n",
              "      <th>325865</th>\n",
              "      <td>210615187</td>\n",
              "      <td>08/30/2021 12:00:00 AM</td>\n",
              "      <td>08/30/2021 12:00:00 AM</td>\n",
              "      <td>1645</td>\n",
              "      <td>NaN</td>\n",
              "      <td>Hollywood</td>\n",
              "      <td>678</td>\n",
              "      <td>1</td>\n",
              "      <td>230</td>\n",
              "      <td>ASSAULT WITH DEADLY WEAPON, AGGRAVATED ASSAULT</td>\n",
              "      <td>...</td>\n",
              "      <td>Invest Cont</td>\n",
              "      <td>230.0</td>\n",
              "      <td>999.0</td>\n",
              "      <td>NaN</td>\n",
              "      <td>NaN</td>\n",
              "      <td>1000 N  WESTERN                      AV</td>\n",
              "      <td>NaN</td>\n",
              "      <td>0.0</td>\n",
              "      <td>0.0</td>\n",
              "      <td>6.0</td>\n",
              "    </tr>\n",
              "    <tr>\n",
              "      <th>325880</th>\n",
              "      <td>211216522</td>\n",
              "      <td>07/26/2021 12:00:00 AM</td>\n",
              "      <td>07/26/2021 12:00:00 AM</td>\n",
              "      <td>1130</td>\n",
              "      <td>NaN</td>\n",
              "      <td>77th Street</td>\n",
              "      <td>1259</td>\n",
              "      <td>2</td>\n",
              "      <td>903</td>\n",
              "      <td>CONTEMPT OF COURT</td>\n",
              "      <td>...</td>\n",
              "      <td>Invest Cont</td>\n",
              "      <td>903.0</td>\n",
              "      <td>NaN</td>\n",
              "      <td>NaN</td>\n",
              "      <td>NaN</td>\n",
              "      <td>600 E  74TH                         ST</td>\n",
              "      <td>NaN</td>\n",
              "      <td>0.0</td>\n",
              "      <td>0.0</td>\n",
              "      <td>12.0</td>\n",
              "    </tr>\n",
              "    <tr>\n",
              "      <th>325899</th>\n",
              "      <td>211218708</td>\n",
              "      <td>08/30/2021 12:00:00 AM</td>\n",
              "      <td>08/30/2021 12:00:00 AM</td>\n",
              "      <td>130</td>\n",
              "      <td>NaN</td>\n",
              "      <td>77th Street</td>\n",
              "      <td>1265</td>\n",
              "      <td>1</td>\n",
              "      <td>310</td>\n",
              "      <td>BURGLARY</td>\n",
              "      <td>...</td>\n",
              "      <td>Invest Cont</td>\n",
              "      <td>310.0</td>\n",
              "      <td>NaN</td>\n",
              "      <td>NaN</td>\n",
              "      <td>NaN</td>\n",
              "      <td>1000 W  84TH                         PL</td>\n",
              "      <td>NaN</td>\n",
              "      <td>0.0</td>\n",
              "      <td>0.0</td>\n",
              "      <td>12.0</td>\n",
              "    </tr>\n",
              "    <tr>\n",
              "      <th>326147</th>\n",
              "      <td>210304042</td>\n",
              "      <td>01/01/2021 12:00:00 AM</td>\n",
              "      <td>01/01/2021 12:00:00 AM</td>\n",
              "      <td>1310</td>\n",
              "      <td>NaN</td>\n",
              "      <td>Southwest</td>\n",
              "      <td>315</td>\n",
              "      <td>2</td>\n",
              "      <td>626</td>\n",
              "      <td>INTIMATE PARTNER - SIMPLE ASSAULT</td>\n",
              "      <td>...</td>\n",
              "      <td>Invest Cont</td>\n",
              "      <td>626.0</td>\n",
              "      <td>NaN</td>\n",
              "      <td>NaN</td>\n",
              "      <td>NaN</td>\n",
              "      <td>ADAMS                        BL</td>\n",
              "      <td>GRAMERCY                     PL</td>\n",
              "      <td>0.0</td>\n",
              "      <td>0.0</td>\n",
              "      <td>3.0</td>\n",
              "    </tr>\n",
              "  </tbody>\n",
              "</table>\n",
              "<p>2573 rows × 29 columns</p>\n",
              "</div>\n",
              "      <button class=\"colab-df-convert\" onclick=\"convertToInteractive('df-1f759712-78f8-4a47-939b-7da14d774fd1')\"\n",
              "              title=\"Convert this dataframe to an interactive table.\"\n",
              "              style=\"display:none;\">\n",
              "        \n",
              "  <svg xmlns=\"http://www.w3.org/2000/svg\" height=\"24px\"viewBox=\"0 0 24 24\"\n",
              "       width=\"24px\">\n",
              "    <path d=\"M0 0h24v24H0V0z\" fill=\"none\"/>\n",
              "    <path d=\"M18.56 5.44l.94 2.06.94-2.06 2.06-.94-2.06-.94-.94-2.06-.94 2.06-2.06.94zm-11 1L8.5 8.5l.94-2.06 2.06-.94-2.06-.94L8.5 2.5l-.94 2.06-2.06.94zm10 10l.94 2.06.94-2.06 2.06-.94-2.06-.94-.94-2.06-.94 2.06-2.06.94z\"/><path d=\"M17.41 7.96l-1.37-1.37c-.4-.4-.92-.59-1.43-.59-.52 0-1.04.2-1.43.59L10.3 9.45l-7.72 7.72c-.78.78-.78 2.05 0 2.83L4 21.41c.39.39.9.59 1.41.59.51 0 1.02-.2 1.41-.59l7.78-7.78 2.81-2.81c.8-.78.8-2.07 0-2.86zM5.41 20L4 18.59l7.72-7.72 1.47 1.35L5.41 20z\"/>\n",
              "  </svg>\n",
              "      </button>\n",
              "      \n",
              "  <style>\n",
              "    .colab-df-container {\n",
              "      display:flex;\n",
              "      flex-wrap:wrap;\n",
              "      gap: 12px;\n",
              "    }\n",
              "\n",
              "    .colab-df-convert {\n",
              "      background-color: #E8F0FE;\n",
              "      border: none;\n",
              "      border-radius: 50%;\n",
              "      cursor: pointer;\n",
              "      display: none;\n",
              "      fill: #1967D2;\n",
              "      height: 32px;\n",
              "      padding: 0 0 0 0;\n",
              "      width: 32px;\n",
              "    }\n",
              "\n",
              "    .colab-df-convert:hover {\n",
              "      background-color: #E2EBFA;\n",
              "      box-shadow: 0px 1px 2px rgba(60, 64, 67, 0.3), 0px 1px 3px 1px rgba(60, 64, 67, 0.15);\n",
              "      fill: #174EA6;\n",
              "    }\n",
              "\n",
              "    [theme=dark] .colab-df-convert {\n",
              "      background-color: #3B4455;\n",
              "      fill: #D2E3FC;\n",
              "    }\n",
              "\n",
              "    [theme=dark] .colab-df-convert:hover {\n",
              "      background-color: #434B5C;\n",
              "      box-shadow: 0px 1px 3px 1px rgba(0, 0, 0, 0.15);\n",
              "      filter: drop-shadow(0px 1px 2px rgba(0, 0, 0, 0.3));\n",
              "      fill: #FFFFFF;\n",
              "    }\n",
              "  </style>\n",
              "\n",
              "      <script>\n",
              "        const buttonEl =\n",
              "          document.querySelector('#df-1f759712-78f8-4a47-939b-7da14d774fd1 button.colab-df-convert');\n",
              "        buttonEl.style.display =\n",
              "          google.colab.kernel.accessAllowed ? 'block' : 'none';\n",
              "\n",
              "        async function convertToInteractive(key) {\n",
              "          const element = document.querySelector('#df-1f759712-78f8-4a47-939b-7da14d774fd1');\n",
              "          const dataTable =\n",
              "            await google.colab.kernel.invokeFunction('convertToInteractive',\n",
              "                                                     [key], {});\n",
              "          if (!dataTable) return;\n",
              "\n",
              "          const docLinkHtml = 'Like what you see? Visit the ' +\n",
              "            '<a target=\"_blank\" href=https://colab.research.google.com/notebooks/data_table.ipynb>data table notebook</a>'\n",
              "            + ' to learn more about interactive tables.';\n",
              "          element.innerHTML = '';\n",
              "          dataTable['output_type'] = 'display_data';\n",
              "          await google.colab.output.renderOutput(dataTable, element);\n",
              "          const docLink = document.createElement('div');\n",
              "          docLink.innerHTML = docLinkHtml;\n",
              "          element.appendChild(docLink);\n",
              "        }\n",
              "      </script>\n",
              "    </div>\n",
              "  </div>\n",
              "  "
            ],
            "text/plain": [
              "            DR_NO               Date Rptd                DATE OCC  TIME OCC  \\\n",
              "49703   100618355  07/14/2010 12:00:00 AM  07/12/2010 12:00:00 AM      1900   \n",
              "60870   100718479  11/29/2010 12:00:00 AM  11/29/2010 12:00:00 AM      1630   \n",
              "85026   101016365  09/09/2010 12:00:00 AM  08/23/2010 12:00:00 AM      1500   \n",
              "205973  120215454  07/31/2012 12:00:00 AM  01/01/2010 12:00:00 AM      1400   \n",
              "206921  122113857  07/30/2012 12:00:00 AM  03/18/2010 12:00:00 AM      1300   \n",
              "...           ...                     ...                     ...       ...   \n",
              "325674  211011175  08/11/2021 12:00:00 AM  08/11/2021 12:00:00 AM      1330   \n",
              "325865  210615187  08/30/2021 12:00:00 AM  08/30/2021 12:00:00 AM      1645   \n",
              "325880  211216522  07/26/2021 12:00:00 AM  07/26/2021 12:00:00 AM      1130   \n",
              "325899  211218708  08/30/2021 12:00:00 AM  08/30/2021 12:00:00 AM       130   \n",
              "326147  210304042  01/01/2021 12:00:00 AM  01/01/2021 12:00:00 AM      1310   \n",
              "\n",
              "        AREA     AREA NAME  Rpt Dist No  Part 1-2  Crm Cd  \\\n",
              "49703     6.0    Hollywood          665         1     330   \n",
              "60870     7.0     Wilshire          709         1     230   \n",
              "85026    10.0  West Valley         1000         2     626   \n",
              "205973    2.0      Rampart          289         2     812   \n",
              "206921   21.0      Topanga         2197         1     341   \n",
              "...       ...          ...          ...       ...     ...   \n",
              "325674    NaN  West Valley         1023         2     626   \n",
              "325865    NaN    Hollywood          678         1     230   \n",
              "325880    NaN  77th Street         1259         2     903   \n",
              "325899    NaN  77th Street         1265         1     310   \n",
              "326147    NaN    Southwest          315         2     626   \n",
              "\n",
              "                                              Crm Cd Desc  ...  Status Desc  \\\n",
              "49703                               BURGLARY FROM VEHICLE  ...  Invest Cont   \n",
              "60870      ASSAULT WITH DEADLY WEAPON, AGGRAVATED ASSAULT  ...  Invest Cont   \n",
              "85026                   INTIMATE PARTNER - SIMPLE ASSAULT  ...  Invest Cont   \n",
              "205973  CRM AGNST CHLD (13 OR UNDER) (14-15 & SUSP 10 ...  ...  Invest Cont   \n",
              "206921  THEFT-GRAND ($950.01 & OVER)EXCPT,GUNS,FOWL,LI...  ...  Invest Cont   \n",
              "...                                                   ...  ...          ...   \n",
              "325674                  INTIMATE PARTNER - SIMPLE ASSAULT  ...  Invest Cont   \n",
              "325865     ASSAULT WITH DEADLY WEAPON, AGGRAVATED ASSAULT  ...  Invest Cont   \n",
              "325880                                  CONTEMPT OF COURT  ...  Invest Cont   \n",
              "325899                                           BURGLARY  ...  Invest Cont   \n",
              "326147                  INTIMATE PARTNER - SIMPLE ASSAULT  ...  Invest Cont   \n",
              "\n",
              "        Crm Cd 1 Crm Cd 2 Crm Cd 3  Crm Cd 4  \\\n",
              "49703      330.0      NaN      NaN       NaN   \n",
              "60870      230.0    998.0      NaN       NaN   \n",
              "85026      626.0      NaN      NaN       NaN   \n",
              "205973     812.0      NaN      NaN       NaN   \n",
              "206921     341.0      NaN      NaN       NaN   \n",
              "...          ...      ...      ...       ...   \n",
              "325674     626.0      NaN      NaN       NaN   \n",
              "325865     230.0    999.0      NaN       NaN   \n",
              "325880     903.0      NaN      NaN       NaN   \n",
              "325899     310.0      NaN      NaN       NaN   \n",
              "326147     626.0      NaN      NaN       NaN   \n",
              "\n",
              "                                        LOCATION  \\\n",
              "49703     900 N  CISTRUS                      AV   \n",
              "60870                                     HARBOR   \n",
              "85026                           CITY OF WINNETKA   \n",
              "205973   1100 S  UNION                        AV   \n",
              "206921   4800    QUEEN VICTORIA               RD   \n",
              "...                                          ...   \n",
              "325674  19200    HAYNES                       ST   \n",
              "325865   1000 N  WESTERN                      AV   \n",
              "325880    600 E  74TH                         ST   \n",
              "325899   1000 W  84TH                         PL   \n",
              "326147           ADAMS                        BL   \n",
              "\n",
              "                           Cross Street  LAT  LON  AREA  \n",
              "49703                               NaN  0.0  0.0   NaN  \n",
              "60870                           CLINTON  0.0  0.0   NaN  \n",
              "85026                  CITY OF WINNETKA  0.0  0.0   NaN  \n",
              "205973                              NaN  0.0  0.0   NaN  \n",
              "206921                              NaN  0.0  0.0   NaN  \n",
              "...                                 ...  ...  ...   ...  \n",
              "325674                              NaN  0.0  0.0  10.0  \n",
              "325865                              NaN  0.0  0.0   6.0  \n",
              "325880                              NaN  0.0  0.0  12.0  \n",
              "325899                              NaN  0.0  0.0  12.0  \n",
              "326147  GRAMERCY                     PL  0.0  0.0   3.0  \n",
              "\n",
              "[2573 rows x 29 columns]"
            ]
          },
          "execution_count": 107,
          "metadata": {},
          "output_type": "execute_result"
        }
      ],
      "source": [
        "#Checking how many latitudes and longitiudes are wrongly marked\n",
        "crime_data[(crime_data['LAT']<33)|(crime_data['LAT']>35)|(crime_data['LON']<-119)|(crime_data['LON']>-117)]"
      ]
    },
    {
      "cell_type": "code",
      "execution_count": null,
      "metadata": {
        "id": "r3FjRm0NxHy9"
      },
      "outputs": [],
      "source": [
        "#Dropping 2573 latitudes and longitudes values that were not mapped to LA\n",
        "crime_data=crime_data[(crime_data['LAT']>33)|(crime_data['LAT']<35)|(crime_data['LON']>-119)|(crime_data['LON']<-117)]"
      ]
    },
    {
      "cell_type": "code",
      "execution_count": null,
      "metadata": {
        "colab": {
          "base_uri": "https://localhost:8080/"
        },
        "id": "NP7Gw8m31YSf",
        "outputId": "2e739902-79e3-4200-fff8-0f22ab431075"
      },
      "outputs": [
        {
          "data": {
            "text/plain": [
              "DR_NO                   0\n",
              "Date Rptd               0\n",
              "DATE OCC                0\n",
              "TIME OCC                0\n",
              "AREA               246977\n",
              "AREA NAME               0\n",
              "Rpt Dist No             0\n",
              "Part 1-2                0\n",
              "Crm Cd                  0\n",
              "Crm Cd Desc             0\n",
              "Mocodes             28381\n",
              "Vict Age                0\n",
              "Vict Sex               77\n",
              "Vict Descent          107\n",
              "Premis Cd              24\n",
              "Premis Desc           144\n",
              "Weapon Used Cd    1207384\n",
              "Weapon Desc       1207385\n",
              "Status                  1\n",
              "Status Desc             0\n",
              "Crm Cd 1                9\n",
              "Crm Cd 2          1858284\n",
              "Crm Cd 3          1990391\n",
              "Crm Cd 4          1994359\n",
              "LOCATION                0\n",
              "Cross Street      1659479\n",
              "LAT                     0\n",
              "LON                     0\n",
              "AREA              1747511\n",
              "dtype: int64"
            ]
          },
          "execution_count": 109,
          "metadata": {},
          "output_type": "execute_result"
        }
      ],
      "source": [
        "#The next step was to handle the NULL values.\n",
        "crime_data.isnull().sum()"
      ]
    },
    {
      "cell_type": "code",
      "execution_count": null,
      "metadata": {
        "colab": {
          "base_uri": "https://localhost:8080/"
        },
        "id": "7c18rT5J2RUs",
        "outputId": "12278333-c00a-430c-808c-da231d0e6ce7"
      },
      "outputs": [
        {
          "data": {
            "text/plain": [
              "array([nan, 'HAND GUN', 'STRONG-ARM (HANDS, FIST, FEET OR BODILY FORCE)',\n",
              "       'UNKNOWN WEAPON/OTHER WEAPON', 'VERBAL THREAT', 'SIMULATED GUN',\n",
              "       'FOLDING KNIFE', 'OTHER KNIFE', 'MACE/PEPPER SPRAY', 'STICK',\n",
              "       'UNKNOWN FIREARM', 'SWITCH BLADE',\n",
              "       'KNIFE WITH BLADE 6INCHES OR LESS', 'BOARD', 'BLUNT INSTRUMENT',\n",
              "       'SEMI-AUTOMATIC PISTOL', 'VEHICLE', 'OTHER CUTTING INSTRUMENT',\n",
              "       'SCISSORS', 'BOTTLE', 'KNIFE WITH BLADE OVER 6 INCHES IN LENGTH',\n",
              "       'AUTOMATIC WEAPON/SUB-MACHINE GUN', 'CLUB/BAT', 'BRASS KNUCKLES',\n",
              "       'KITCHEN KNIFE', 'BELT FLAILING INSTRUMENT/CHAIN',\n",
              "       'AIR PISTOL/REVOLVER/RIFLE/BB GUN', 'SCREWDRIVER', 'FIRE',\n",
              "       'STUN GUN', 'RIFLE', 'RAZOR BLADE', 'DIRK/DAGGER',\n",
              "       'CAUSTIC CHEMICAL/POISON', 'SHOTGUN', 'ICE PICK',\n",
              "       'ROCK/THROWN OBJECT', 'REVOLVER', 'OTHER FIREARM', 'BOWIE KNIFE',\n",
              "       'HECKLER & KOCH 93 SEMIAUTOMATIC ASSAULT RIFLE', 'SCALDING LIQUID',\n",
              "       'BOMB THREAT', 'MACHETE', 'TOY GUN',\n",
              "       'UZI SEMIAUTOMATIC ASSAULT RIFLE', 'SAWED OFF RIFLE/SHOTGUN',\n",
              "       'SWORD', 'HECKLER & KOCH 91 SEMIAUTOMATIC ASSAULT RIFLE',\n",
              "       'ASSAULT WEAPON/UZI/AK47/ETC', 'EXPLOXIVE DEVICE', 'LIQUOR/DRUGS',\n",
              "       'FIXED OBJECT', 'SEMI-AUTOMATIC RIFLE', 'RAZOR', 'ROPE/LIGATURE',\n",
              "       'TIRE IRON', 'STARTER PISTOL/REVOLVER', 'AXE',\n",
              "       'MARTIAL ARTS WEAPONS', 'CLEAVER', 'STRAIGHT RAZOR', 'DEMAND NOTE',\n",
              "       'PHYSICAL PRESENCE', 'BOW AND ARROW',\n",
              "       'UNKNOWN TYPE CUTTING INSTRUMENT', 'BLACKJACK', 'SYRINGE', 'GLASS',\n",
              "       'MAC-10 SEMIAUTOMATIC ASSAULT WEAPON',\n",
              "       'UNK TYPE SEMIAUTOMATIC ASSAULT RIFLE', 'HAMMER',\n",
              "       'CONCRETE BLOCK/BRICK', 'RELIC FIREARM', 'PIPE/METAL PIPE',\n",
              "       'MAC-11 SEMIAUTOMATIC ASSAULT WEAPON', 'ANTIQUE FIREARM',\n",
              "       'M-14 SEMIAUTOMATIC ASSAULT RIFLE', 'DOG/ANIMAL (SIC ANIMAL ON)',\n",
              "       'M1-1 SEMIAUTOMATIC ASSAULT RIFLE'], dtype=object)"
            ]
          },
          "execution_count": 110,
          "metadata": {},
          "output_type": "execute_result"
        }
      ],
      "source": [
        "crime_data['Weapon Desc'].unique()"
      ]
    },
    {
      "cell_type": "code",
      "execution_count": null,
      "metadata": {
        "id": "7zP40UzT40fd"
      },
      "outputs": [],
      "source": [
        "#Next, we noticed two repetitive columns for \"AREA\". So we removed the extra one.\n",
        "crime_data=crime_data.drop(columns=['AREA'])"
      ]
    },
    {
      "cell_type": "code",
      "execution_count": null,
      "metadata": {
        "colab": {
          "base_uri": "https://localhost:8080/"
        },
        "id": "1uwbQpCa94HR",
        "outputId": "a800f9b8-c74b-4c91-9031-c59aa8f3fab3"
      },
      "outputs": [
        {
          "data": {
            "text/plain": [
              "array(['M', 'F', nan, 'H', 'X', '-', 'N'], dtype=object)"
            ]
          },
          "execution_count": 112,
          "metadata": {},
          "output_type": "execute_result"
        }
      ],
      "source": [
        "#Checking the victim sex column for wrong genders\n",
        "crime_data['Vict Sex'].unique()"
      ]
    },
    {
      "cell_type": "code",
      "execution_count": null,
      "metadata": {
        "id": "fvgMejL3B6CZ"
      },
      "outputs": [],
      "source": [
        "crime_data[\"Vict Sex\"].fillna(\"X\",inplace=True)"
      ]
    },
    {
      "cell_type": "code",
      "execution_count": null,
      "metadata": {
        "id": "xARh_qWQCXLe"
      },
      "outputs": [],
      "source": [
        "#We replaced sexes otheer than \"M' and 'F\" with 'O'\n",
        "crime_data['Vict Sex']=crime_data['Vict Sex'].replace(['X','H','-','N'],'O')"
      ]
    },
    {
      "cell_type": "code",
      "execution_count": null,
      "metadata": {
        "colab": {
          "base_uri": "https://localhost:8080/"
        },
        "id": "eDtTAT5oD2Kk",
        "outputId": "0560d2df-7c1b-4d03-c968-e21e071e3706"
      },
      "outputs": [
        {
          "data": {
            "text/plain": [
              "array(['H', 'W', 'B', 'A', 'O', 'K', 'I', 'X', 'J', 'F', 'C', 'P', 'V',\n",
              "       nan, 'U', 'G', 'D', 'S', 'Z', 'L', '-'], dtype=object)"
            ]
          },
          "execution_count": 115,
          "metadata": {},
          "output_type": "execute_result"
        }
      ],
      "source": [
        "crime_data['Vict Descent'].unique()"
      ]
    },
    {
      "cell_type": "code",
      "execution_count": null,
      "metadata": {
        "id": "pL8GOviRFKis"
      },
      "outputs": [],
      "source": [
        "#Replcing NULL values in the other columns\n",
        "crime_data[\"Vict Descent\"].fillna(\"-\",inplace=True)\n",
        "crime_data[\"Mocodes\"].fillna(\"0\",inplace=True)\n",
        "crime_data[\"Crm Cd 1\"].fillna(0,inplace=True)\n",
        "crime_data[\"Crm Cd 2\"].fillna(0,inplace=True)\n",
        "crime_data[\"Crm Cd 3\"].fillna(0,inplace=True)\n",
        "crime_data[\"Crm Cd 4\"].fillna(0,inplace=True)\n",
        "crime_data[\"AREA \"].fillna(0,inplace=True)\n",
        "crime_data[\"Cross Street\"].fillna(\"N/A\",inplace=True)\n",
        "crime_data[\"Premis Cd\"].fillna(0,inplace=True)\n",
        "crime_data[\"Premis Desc\"].fillna(\"Unknown\",inplace=True)\n",
        "crime_data[\"Weapon Used Cd\"].fillna(0,inplace=True)\n",
        "crime_data[\"Weapon Desc\"].fillna(\"NO WEAPON\",inplace=True)\n",
        "crime_data[\"Status\"].fillna(0,inplace=True)"
      ]
    },
    {
      "cell_type": "code",
      "execution_count": null,
      "metadata": {
        "colab": {
          "base_uri": "https://localhost:8080/"
        },
        "id": "eaSx7dGVHh17",
        "outputId": "bdc24289-10ec-49a3-ac95-46edcda7be65"
      },
      "outputs": [
        {
          "data": {
            "text/plain": [
              "DR_NO             0\n",
              "Date Rptd         0\n",
              "DATE OCC          0\n",
              "TIME OCC          0\n",
              "AREA              0\n",
              "AREA NAME         0\n",
              "Rpt Dist No       0\n",
              "Part 1-2          0\n",
              "Crm Cd            0\n",
              "Crm Cd Desc       0\n",
              "Mocodes           0\n",
              "Vict Age          0\n",
              "Vict Sex          0\n",
              "Vict Descent      0\n",
              "Premis Cd         0\n",
              "Premis Desc       0\n",
              "Weapon Used Cd    0\n",
              "Weapon Desc       0\n",
              "Status            0\n",
              "Status Desc       0\n",
              "Crm Cd 1          0\n",
              "Crm Cd 2          0\n",
              "Crm Cd 3          0\n",
              "Crm Cd 4          0\n",
              "LOCATION          0\n",
              "Cross Street      0\n",
              "LAT               0\n",
              "LON               0\n",
              "dtype: int64"
            ]
          },
          "execution_count": 117,
          "metadata": {},
          "output_type": "execute_result"
        }
      ],
      "source": [
        "#Checking the number of NULL values now.\n",
        "crime_data.isnull().sum()"
      ]
    },
    {
      "cell_type": "code",
      "execution_count": null,
      "metadata": {
        "id": "DumcLwjwA8XR"
      },
      "outputs": [],
      "source": [
        "#Dropping duplicates\n",
        "crime_data.drop_duplicates(inplace=True)"
      ]
    },
    {
      "cell_type": "code",
      "execution_count": null,
      "metadata": {
        "colab": {
          "base_uri": "https://localhost:8080/"
        },
        "id": "D2En6wOoAovn",
        "outputId": "8ec83854-03a7-4003-d8b8-369da0809cb4"
      },
      "outputs": [
        {
          "data": {
            "text/plain": [
              "(1994488, 28)"
            ]
          },
          "execution_count": 119,
          "metadata": {},
          "output_type": "execute_result"
        }
      ],
      "source": [
        "#Final shape after cleaning\n",
        "crime_data.shape"
      ]
    },
    {
      "cell_type": "markdown",
      "metadata": {
        "id": "ZdyvoL_mOL6v"
      },
      "source": [
        "### **Exploratory Data Analysis(EDA)**"
      ]
    },
    {
      "cell_type": "code",
      "execution_count": null,
      "metadata": {
        "id": "pSztoDS9Sux1"
      },
      "outputs": [],
      "source": [
        "#Vizualizing the number of crimes for different ages\n",
        "crime_age_num=crime_data.groupby(['Vict Age'])['Vict Age'].count()\n",
        "crime_age_num.sort_values(ascending=False,inplace=True)"
      ]
    },
    {
      "cell_type": "code",
      "execution_count": null,
      "metadata": {
        "colab": {
          "base_uri": "https://localhost:8080/"
        },
        "id": "TRJcTPoUURLR",
        "outputId": "ffd7497b-c160-44f2-ec21-915198c06634"
      },
      "outputs": [
        {
          "name": "stdout",
          "output_type": "stream",
          "text": [
            "The top 10 victim ages to whom crimes most occur on are the following\n",
            " Vict Age\n",
            "25    54639\n",
            "26    54257\n",
            "27    53871\n",
            "28    53612\n",
            "29    53146\n",
            "24    52715\n",
            "30    52703\n",
            "23    50776\n",
            "31    50152\n",
            "32    48635\n",
            "Name: Vict Age, dtype: int64\n"
          ]
        }
      ],
      "source": [
        "print(\"The top 10 victim ages to whom crimes most occur on are the following\\n\",crime_age_num.head(10))"
      ]
    },
    {
      "cell_type": "code",
      "execution_count": null,
      "metadata": {
        "colab": {
          "base_uri": "https://localhost:8080/"
        },
        "id": "ur7Tm2YcUTuC",
        "outputId": "d010a412-a763-44be-cda3-683bc6668bec"
      },
      "outputs": [
        {
          "name": "stdout",
          "output_type": "stream",
          "text": [
            "The top 10 victim ages to whom crimes least occur on are the following\n",
            " Vict Age\n",
            "92     554\n",
            "93     492\n",
            "94     367\n",
            "95     283\n",
            "96     219\n",
            "97     193\n",
            "98     144\n",
            "114      1\n",
            "118      1\n",
            "120      1\n",
            "Name: Vict Age, dtype: int64\n"
          ]
        }
      ],
      "source": [
        "print(\"The top 10 victim ages to whom crimes least occur on are the following\\n\",crime_age_num.tail(10))"
      ]
    },
    {
      "cell_type": "code",
      "execution_count": null,
      "metadata": {
        "colab": {
          "base_uri": "https://localhost:8080/",
          "height": 316
        },
        "id": "N1RaOvPFDXEN",
        "outputId": "f90a3899-5d87-4de7-d194-9336bed5d20e"
      },
      "outputs": [
        {
          "data": {
            "text/plain": [
              "<matplotlib.axes._subplots.AxesSubplot at 0x7f08ae1cd450>"
            ]
          },
          "execution_count": 123,
          "metadata": {},
          "output_type": "execute_result"
        },
        {
          "data": {
            "image/png": "[encoded data removed]",
            "text/plain": [
              "<Figure size 432x288 with 1 Axes>"
            ]
          },
          "metadata": {},
          "output_type": "display_data"
        }
      ],
      "source": [
        "crime_age_num.sort_values().tail().plot(kind='bar',title=\"Chart of the victim ages vs number of crimes\")"
      ]
    },
    {
      "cell_type": "code",
      "execution_count": null,
      "metadata": {
        "colab": {
          "base_uri": "https://localhost:8080/",
          "height": 322
        },
        "id": "PorNmvNaD8X-",
        "outputId": "c11af83c-ac09-447e-e4b0-b644b5d2d366"
      },
      "outputs": [
        {
          "data": {
            "text/plain": [
              "<matplotlib.axes._subplots.AxesSubplot at 0x7f08a19b7e50>"
            ]
          },
          "execution_count": 124,
          "metadata": {},
          "output_type": "execute_result"
        },
        {
          "data": {
            "image/png": "[encoded data removed]",
            "text/plain": [
              "<Figure size 432x288 with 1 Axes>"
            ]
          },
          "metadata": {},
          "output_type": "display_data"
        }
      ],
      "source": [
        "crime_age_num.sort_values().head().plot(kind='bar',title=\"Chart of the victim ages vs number of crimes\")"
      ]
    },
    {
      "cell_type": "code",
      "execution_count": null,
      "metadata": {
        "id": "C7ffZU-OUemH"
      },
      "outputs": [],
      "source": [
        "#Vizualizing the number of crimes for different victim sexes\n",
        "crime_sex_num=crime_data.groupby(['Vict Sex'])['Vict Sex'].count()\n",
        "crime_sex_num.sort_values(ascending=False,inplace=True)"
      ]
    },
    {
      "cell_type": "code",
      "execution_count": null,
      "metadata": {
        "colab": {
          "base_uri": "https://localhost:8080/"
        },
        "id": "S8B92rmvUlbE",
        "outputId": "9ee60946-b906-4a06-fd9d-02a374cf161c"
      },
      "outputs": [
        {
          "name": "stdout",
          "output_type": "stream",
          "text": [
            "The top victim sexes to whom crimes least occur on are the following\n",
            " Vict Sex\n",
            "F    994309\n",
            "M    991487\n",
            "O      8692\n",
            "Name: Vict Sex, dtype: int64\n"
          ]
        }
      ],
      "source": [
        "print(\"The top victim sexes to whom crimes least occur on are the following\\n\",crime_sex_num)"
      ]
    },
    {
      "cell_type": "code",
      "execution_count": null,
      "metadata": {
        "colab": {
          "base_uri": "https://localhost:8080/",
          "height": 282
        },
        "id": "Z5UGgQKNUt2Z",
        "outputId": "15b5397f-a692-434b-e6b4-54c735a4cc44"
      },
      "outputs": [
        {
          "data": {
            "text/plain": [
              "<matplotlib.axes._subplots.AxesSubplot at 0x7f08a1981a50>"
            ]
          },
          "execution_count": 127,
          "metadata": {},
          "output_type": "execute_result"
        },
        {
          "data": {
            "image/png": "[encoded data removed]",
            "text/plain": [
              "<Figure size 432x288 with 1 Axes>"
            ]
          },
          "metadata": {},
          "output_type": "display_data"
        }
      ],
      "source": [
        "crime_sex_num.plot(kind='pie',title=\"Chart of the victim sexes vs number of crimes\")"
      ]
    },
    {
      "cell_type": "code",
      "execution_count": null,
      "metadata": {
        "id": "VvyLVLteVBDB"
      },
      "outputs": [],
      "source": [
        "#Vizualizing the number of crimes for different victim descents\n",
        "crime_descent_num=crime_data.groupby(['Vict Descent'])['Vict Descent'].count()\n",
        "crime_descent_num.sort_values(ascending=False,inplace=True)"
      ]
    },
    {
      "cell_type": "code",
      "execution_count": null,
      "metadata": {
        "colab": {
          "base_uri": "https://localhost:8080/"
        },
        "id": "rdD1H4MCVVvu",
        "outputId": "6c7813a1-3a8d-4b8c-dcd0-1c157b9fa3bc"
      },
      "outputs": [
        {
          "name": "stdout",
          "output_type": "stream",
          "text": [
            "The top victim descents to whom crimes least occur on are the following\n",
            " Vict Descent\n",
            "H    804012\n",
            "W    532103\n",
            "B    376277\n",
            "O    186893\n",
            "A     57002\n",
            "X     19233\n",
            "K     10152\n",
            "F      3535\n",
            "C      1854\n",
            "I      1115\n",
            "J       740\n",
            "V       444\n",
            "P       401\n",
            "Z       219\n",
            "U       186\n",
            "-       109\n",
            "G       107\n",
            "S        41\n",
            "D        37\n",
            "L        28\n",
            "Name: Vict Descent, dtype: int64\n"
          ]
        }
      ],
      "source": [
        "print(\"The top victim descents to whom crimes least occur on are the following\\n\",crime_descent_num)"
      ]
    },
    {
      "cell_type": "code",
      "execution_count": null,
      "metadata": {
        "colab": {
          "base_uri": "https://localhost:8080/",
          "height": 313
        },
        "id": "g-LlKKUGVZ4R",
        "outputId": "eaf24364-74b3-4067-f0f8-4b389c0536e9"
      },
      "outputs": [
        {
          "data": {
            "text/plain": [
              "<matplotlib.axes._subplots.AxesSubplot at 0x7f08a18f67d0>"
            ]
          },
          "execution_count": 130,
          "metadata": {},
          "output_type": "execute_result"
        },
        {
          "data": {
            "image/png": "[encoded data removed]",
            "text/plain": [
              "<Figure size 432x288 with 1 Axes>"
            ]
          },
          "metadata": {},
          "output_type": "display_data"
        }
      ],
      "source": [
        "crime_descent_num.plot(kind='bar',title=\"Chart of the victim descents vs number of crimes\")"
      ]
    },
    {
      "cell_type": "code",
      "execution_count": null,
      "metadata": {
        "colab": {
          "base_uri": "https://localhost:8080/"
        },
        "id": "mwR3N1DsUBBv",
        "outputId": "8d3a8435-f689-45f7-8b4e-18f73d081d7e"
      },
      "outputs": [
        {
          "name": "stdout",
          "output_type": "stream",
          "text": [
            "The top 10 areas with the most occuring crimes are\n",
            " AREA NAME\n",
            "77th Street    140251\n",
            "N Hollywood    104790\n",
            "Central        101809\n",
            "Mission         94032\n",
            "Hollywood       93570\n",
            "Devonshire      87628\n",
            "Newton          87326\n",
            "Harbor          80885\n",
            "Foothill        73589\n",
            "Hollenbeck      66138\n",
            "Name: AREA NAME, dtype: int64\n"
          ]
        }
      ],
      "source": [
        "#Vizualizing the number of crimes in different areas\n",
        "crime_area_num=crime_data.groupby(['AREA NAME'])['AREA NAME'].count().head(10)\n",
        "crime_area_num.sort_values(ascending=False,inplace=True)\n",
        "print(\"The top 10 areas with the most occuring crimes are\\n\",crime_area_num)"
      ]
    },
    {
      "cell_type": "code",
      "execution_count": null,
      "metadata": {
        "colab": {
          "base_uri": "https://localhost:8080/",
          "height": 366
        },
        "id": "Y9d2i3jGVAnK",
        "outputId": "ec7bde92-cd84-4d7b-d0b6-40f76ffa0922"
      },
      "outputs": [
        {
          "data": {
            "text/plain": [
              "<matplotlib.axes._subplots.AxesSubplot at 0x7f08a18f5410>"
            ]
          },
          "execution_count": 132,
          "metadata": {},
          "output_type": "execute_result"
        },
        {
          "data": {
            "image/png": "[encoded data removed]",
            "text/plain": [
              "<Figure size 432x288 with 1 Axes>"
            ]
          },
          "metadata": {},
          "output_type": "display_data"
        }
      ],
      "source": [
        "crime_area_num.plot(kind='bar',title=\"Top 10 areas with crimes\")"
      ]
    },
    {
      "cell_type": "code",
      "execution_count": null,
      "metadata": {
        "id": "9nkJYJjfVJrn"
      },
      "outputs": [],
      "source": [
        "#Splitting the date column to get the year\n",
        "crime_data['DATE OCC']=pd.to_datetime(crime_data['DATE OCC'],format='%m/%d/%Y %I:%M:%S %p')"
      ]
    },
    {
      "cell_type": "code",
      "execution_count": null,
      "metadata": {
        "id": "JFd3r_DTD5eR"
      },
      "outputs": [],
      "source": [
        "#Saving the year of the crime occurence in a column \"Year\"\n",
        "crime_data['Year']=pd.DatetimeIndex(crime_data['DATE OCC']).year"
      ]
    },
    {
      "cell_type": "code",
      "execution_count": null,
      "metadata": {
        "colab": {
          "base_uri": "https://localhost:8080/"
        },
        "id": "Xr4bkAK9E6G3",
        "outputId": "e6443288-e16e-4c8f-c38e-d15fa4d4f2b6"
      },
      "outputs": [
        {
          "name": "stdout",
          "output_type": "stream",
          "text": [
            "The frequency of crimes based on the year of occurence are\n",
            " Year\n",
            "2017    186608\n",
            "2018    186262\n",
            "2016    183481\n",
            "2015    179059\n",
            "2019    175951\n",
            "2010    173626\n",
            "2012    168846\n",
            "2011    168230\n",
            "2014    163864\n",
            "2013    161584\n",
            "2020    149174\n",
            "2021     97803\n",
            "Name: Year, dtype: int64\n"
          ]
        }
      ],
      "source": [
        "#Vizualizing the number of crimes in different years\n",
        "crime_year_num=crime_data.groupby(['Year'])['Year'].count()\n",
        "crime_year_num.sort_values(ascending=False,inplace=True)\n",
        "print(\"The frequency of crimes based on the year of occurence are\\n\",crime_year_num)"
      ]
    },
    {
      "cell_type": "code",
      "execution_count": null,
      "metadata": {
        "colab": {
          "base_uri": "https://localhost:8080/",
          "height": 313
        },
        "id": "mA4LhzjIL9Nx",
        "outputId": "5cd0f425-a984-41db-f8bd-fb2de31d012f"
      },
      "outputs": [
        {
          "data": {
            "text/plain": [
              "<matplotlib.axes._subplots.AxesSubplot at 0x7f08a17cb1d0>"
            ]
          },
          "execution_count": 136,
          "metadata": {},
          "output_type": "execute_result"
        },
        {
          "data": {
            "image/png": "[encoded data removed]",
            "text/plain": [
              "<Figure size 432x288 with 1 Axes>"
            ]
          },
          "metadata": {},
          "output_type": "display_data"
        }
      ],
      "source": [
        "crime_data.groupby([crime_data.Year]).size().plot(kind='line',stacked=False,title=\"Year wise crime frequency\")"
      ]
    },
    {
      "cell_type": "code",
      "execution_count": null,
      "metadata": {
        "id": "YToTkWJwGoX9"
      },
      "outputs": [],
      "source": [
        "#Saving the month of the crime occurence in a column \"Month\"\n",
        "crime_data['Month']=pd.DatetimeIndex(crime_data['DATE OCC']).month"
      ]
    },
    {
      "cell_type": "code",
      "execution_count": null,
      "metadata": {
        "colab": {
          "base_uri": "https://localhost:8080/"
        },
        "id": "bfxoa8Z-GcxS",
        "outputId": "8678f670-bd93-4b71-c1ba-2b5bf0ca881c"
      },
      "outputs": [
        {
          "name": "stdout",
          "output_type": "stream",
          "text": [
            "The frequency of crimes based on the month of occurence are\n",
            " Month\n",
            "7     178713\n",
            "1     176905\n",
            "8     175812\n",
            "5     174733\n",
            "6     172119\n",
            "3     170433\n",
            "4     166802\n",
            "10    162376\n",
            "9     157187\n",
            "12    154802\n",
            "2     154395\n",
            "11    150211\n",
            "Name: Month, dtype: int64\n"
          ]
        }
      ],
      "source": [
        "#Vizualizing the number of crimes in different months\n",
        "crime_month_num=crime_data.groupby(['Month'])['Month'].count()\n",
        "crime_month_num.sort_values(ascending=False,inplace=True)\n",
        "print(\"The frequency of crimes based on the month of occurence are\\n\",crime_month_num)"
      ]
    },
    {
      "cell_type": "code",
      "execution_count": null,
      "metadata": {
        "colab": {
          "base_uri": "https://localhost:8080/",
          "height": 313
        },
        "id": "lwbtlNSpG7bu",
        "outputId": "68311e1c-0f4e-4b9e-a1fe-7c52a45d18d0"
      },
      "outputs": [
        {
          "data": {
            "text/plain": [
              "<matplotlib.axes._subplots.AxesSubplot at 0x7f08a1737210>"
            ]
          },
          "execution_count": 139,
          "metadata": {},
          "output_type": "execute_result"
        },
        {
          "data": {
            "image/png": "[encoded data removed]",
            "text/plain": [
              "<Figure size 432x288 with 1 Axes>"
            ]
          },
          "metadata": {},
          "output_type": "display_data"
        }
      ],
      "source": [
        "crime_data.groupby([crime_data.Month]).size().plot(kind='line',stacked=False,title=\"Month wise crime frequency\")"
      ]
    },
    {
      "cell_type": "markdown",
      "metadata": {
        "id": "LQI6A8LtHOWT"
      },
      "source": [
        "We could infer that the number of crimes have come down drastically in 2021. The years between 2016-2019 saw some of the highest number of crimes committed in LA. The rest of the years were however very similar range and there is no specific trend since we do not see a plateau,incline or decline.\n",
        "\n",
        "Similarly there was no standard trend for crimes occuring per month either. There we decided to dig deeper and try to see the days in which crimes occur."
      ]
    },
    {
      "cell_type": "code",
      "execution_count": null,
      "metadata": {
        "id": "3mKIQTTbJ6WT"
      },
      "outputs": [],
      "source": [
        "#Saving the day of the crime occurence in a column \"Day\"\n",
        "crime_data['Day']=pd.DatetimeIndex(crime_data['DATE OCC']).day"
      ]
    },
    {
      "cell_type": "code",
      "execution_count": null,
      "metadata": {
        "colab": {
          "base_uri": "https://localhost:8080/"
        },
        "id": "uk2QYppPKFes",
        "outputId": "27d444fc-2313-4168-851e-6f49e0f079ec"
      },
      "outputs": [
        {
          "name": "stdout",
          "output_type": "stream",
          "text": [
            "The frequency of crimes based on the days of occurence are\n",
            " Day\n",
            "1     104173\n",
            "15     69814\n",
            "20     66840\n",
            "10     65570\n",
            "18     64910\n",
            "16     64791\n",
            "21     64547\n",
            "14     64524\n",
            "23     64444\n",
            "13     64338\n",
            "5      64323\n",
            "24     64303\n",
            "17     64249\n",
            "28     64120\n",
            "3      64097\n",
            "22     63989\n",
            "25     63888\n",
            "12     63735\n",
            "19     63719\n",
            "2      63617\n",
            "26     63591\n",
            "27     63399\n",
            "4      63312\n",
            "6      62893\n",
            "8      62845\n",
            "7      62774\n",
            "11     62767\n",
            "9      62359\n",
            "29     59422\n",
            "30     58844\n",
            "31     38291\n",
            "Name: Day, dtype: int64\n"
          ]
        }
      ],
      "source": [
        "#Vizualizing the number of crimes in different months\n",
        "crime_day_num=crime_data.groupby(['Day'])['Day'].count()\n",
        "crime_day_num.sort_values(ascending=False,inplace=True)\n",
        "print(\"The frequency of crimes based on the days of occurence are\\n\",crime_day_num)"
      ]
    },
    {
      "cell_type": "code",
      "execution_count": null,
      "metadata": {
        "colab": {
          "base_uri": "https://localhost:8080/",
          "height": 313
        },
        "id": "0yy-AyCXKs2u",
        "outputId": "6a92c52b-0048-4258-bbde-a0fcd7a04189"
      },
      "outputs": [
        {
          "data": {
            "text/plain": [
              "<matplotlib.axes._subplots.AxesSubplot at 0x7f08a1708450>"
            ]
          },
          "execution_count": 142,
          "metadata": {},
          "output_type": "execute_result"
        },
        {
          "data": {
            "image/png": "[encoded data removed]",
            "text/plain": [
              "<Figure size 432x288 with 1 Axes>"
            ]
          },
          "metadata": {},
          "output_type": "display_data"
        }
      ],
      "source": [
        "crime_data.groupby([crime_data.Day]).size().plot(kind='line',stacked=False,title=\"Day wise crime frequency\")"
      ]
    },
    {
      "cell_type": "markdown",
      "metadata": {
        "id": "D-TCTxsoK0fB"
      },
      "source": [
        "Here it is now evident that the 1st of every month have almost 1.5 times the number of crimes  that are commited on other days. Secondsly, the last few days of the monhts usually see some of the lowest crimes in the month. This could be explained by the tighter law enforcement during the last few days of the month."
      ]
    },
    {
      "cell_type": "code",
      "execution_count": null,
      "metadata": {
        "colab": {
          "base_uri": "https://localhost:8080/",
          "height": 248
        },
        "id": "U1OIbRnSN54s",
        "outputId": "41d89628-da46-439e-e465-99b4c99e8504"
      },
      "outputs": [
        {
          "data": {
            "image/png": "[encoded data removed]",
            "text/plain": [
              "<Figure size 432x288 with 1 Axes>"
            ]
          },
          "metadata": {},
          "output_type": "display_data"
        }
      ],
      "source": [
        "#Word cloud for premis desc\n",
        "crime_data['Premis Desc']=crime_data['Premis Desc'].fillna('')\n",
        "text=\" \".join(review for review in crime_data['Premis Desc'])\n",
        "wordcloud=WordCloud(max_words=100,background_color=\"white\",collocations=False,width=500,height=500).generate(text)\n",
        "plt.imshow(wordcloud,interpolation='bilinear')\n",
        "plt.axis(\"off\")\n",
        "plt.show()"
      ]
    },
    {
      "cell_type": "code",
      "execution_count": null,
      "metadata": {
        "colab": {
          "base_uri": "https://localhost:8080/",
          "height": 248
        },
        "id": "bF6kKZidREW9",
        "outputId": "96a1bcfc-290b-478b-9d50-194ae8c5eca0"
      },
      "outputs": [
        {
          "data": {
            "image/png": "[encoded data removed]",
            "text/plain": [
              "<Figure size 432x288 with 1 Axes>"
            ]
          },
          "metadata": {},
          "output_type": "display_data"
        }
      ],
      "source": [
        "#Word cloud for crime desc\n",
        "crime_data['Crm Cd Desc']=crime_data['Crm Cd Desc'].fillna('')\n",
        "text=\" \".join(review for review in crime_data['Crm Cd Desc'])\n",
        "wordcloud=WordCloud(max_words=100,background_color=\"white\",collocations=False,width=500,height=500).generate(text)\n",
        "plt.imshow(wordcloud,interpolation='bilinear')\n",
        "plt.axis(\"off\")\n",
        "plt.show()"
      ]
    },
    {
      "cell_type": "code",
      "execution_count": null,
      "metadata": {
        "colab": {
          "base_uri": "https://localhost:8080/"
        },
        "id": "vG-OzwAPSDce",
        "outputId": "714abdfe-9e0d-4b93-8c88-8e213d3e8a28"
      },
      "outputs": [
        {
          "name": "stdout",
          "output_type": "stream",
          "text": [
            "The top 10 most occuring crimes are\n",
            " Crm Cd Desc\n",
            "BATTERY - SIMPLE ASSAULT                                    215094\n",
            "ASSAULT WITH DEADLY WEAPON, AGGRAVATED ASSAULT              109377\n",
            "BATTERY WITH SEXUAL CONTACT                                  12673\n",
            "ATTEMPTED ROBBERY                                            12650\n",
            "ARSON                                                         2979\n",
            "BATTERY POLICE (SIMPLE)                                       2066\n",
            "ASSAULT WITH DEADLY WEAPON ON POLICE OFFICER                   577\n",
            "BATTERY ON A FIREFIGHTER                                       307\n",
            "BEASTIALITY, CRIME AGAINST NATURE SEXUAL ASSLT WITH ANIM        12\n",
            "ABORTION/ILLEGAL                                                 7\n",
            "Name: Crm Cd Desc, dtype: int64\n"
          ]
        }
      ],
      "source": [
        "#Vizualizing the number of crimes in different types\n",
        "crime_type_num=crime_data.groupby(['Crm Cd Desc'])['Crm Cd Desc'].count().head(10)\n",
        "crime_type_num.sort_values(ascending=False,inplace=True)\n",
        "print(\"The top 10 most occuring crimes are\\n\",crime_type_num)"
      ]
    },
    {
      "cell_type": "code",
      "execution_count": null,
      "metadata": {
        "colab": {
          "base_uri": "https://localhost:8080/",
          "height": 627
        },
        "id": "uQ6fju2jSJEj",
        "outputId": "9954eb98-5cc3-4e14-dd84-65babed23e5a"
      },
      "outputs": [
        {
          "data": {
            "text/plain": [
              "<matplotlib.axes._subplots.AxesSubplot at 0x7f08a156f690>"
            ]
          },
          "execution_count": 146,
          "metadata": {},
          "output_type": "execute_result"
        },
        {
          "data": {
            "image/png": "[encoded data removed]",
            "text/plain": [
              "<Figure size 432x288 with 1 Axes>"
            ]
          },
          "metadata": {},
          "output_type": "display_data"
        }
      ],
      "source": [
        "crime_type_num.plot(kind='bar',title=\"Top 10 most occuring crimes\")"
      ]
    },
    {
      "cell_type": "code",
      "execution_count": null,
      "metadata": {
        "colab": {
          "base_uri": "https://localhost:8080/"
        },
        "id": "YbqoPEENg7BU",
        "outputId": "f715a98e-8b02-40d2-9c39-8057b7b6526b"
      },
      "outputs": [
        {
          "data": {
            "text/plain": [
              "array([1, 2, 3])"
            ]
          },
          "execution_count": 147,
          "metadata": {},
          "output_type": "execute_result"
        }
      ],
      "source": [
        "#Mapping Sex to numerical values i.e. M->1,F->2 and 0->3.\n",
        "crime_data['Vict Sex']=crime_data['Vict Sex'].replace(['M'],1)\n",
        "crime_data['Vict Sex']=crime_data['Vict Sex'].replace(['F'],2)\n",
        "crime_data['Vict Sex']=crime_data['Vict Sex'].replace(['O'],3)\n",
        "crime_data['Vict Sex'].unique()"
      ]
    },
    {
      "cell_type": "code",
      "execution_count": null,
      "metadata": {
        "colab": {
          "base_uri": "https://localhost:8080/"
        },
        "id": "8BRosC9Eg8d-",
        "outputId": "21b04a4a-58e7-4abb-88f8-ce5d5da804d8"
      },
      "outputs": [
        {
          "data": {
            "text/plain": [
              "array([ 1,  2,  3,  4,  5,  6,  7,  8,  9, 10, 11, 12, 13, 20, 14, 15, 16,\n",
              "       17, 18, 19])"
            ]
          },
          "execution_count": 148,
          "metadata": {},
          "output_type": "execute_result"
        }
      ],
      "source": [
        "#Mapping victim descent to numbers\n",
        "crime_data['Vict Descent']=crime_data['Vict Descent'].replace(['H', 'W', 'B', 'A', 'O', 'K', 'I', 'X', 'J', 'F', 'C', 'P', 'V', 'U', 'G', 'D', 'S', 'Z', 'L','-'],[1,2,3,4,5,6,7,8,9,10,11,12,13,14,15,16,17,18,19,20])\n",
        "crime_data['Vict Descent'].unique()"
      ]
    },
    {
      "cell_type": "markdown",
      "metadata": {
        "id": "1bD-0xkTSehZ"
      },
      "source": [
        "### **Data Modelling and Time series forecasting**"
      ]
    },
    {
      "cell_type": "markdown",
      "metadata": {
        "id": "zHjwikphhIUh"
      },
      "source": [
        "**FB Prophet**"
      ]
    },
    {
      "cell_type": "code",
      "execution_count": null,
      "metadata": {
        "colab": {
          "base_uri": "https://localhost:8080/",
          "height": 384
        },
        "id": "OMV2uCp4hMbS",
        "outputId": "2c714f70-8dc7-4fc8-db69-11f2e20b88c0"
      },
      "outputs": [
        {
          "data": {
            "text/html": [
              "\n",
              "  <div id=\"df-6d6bf1c7-a1a7-41b2-8a9c-b5d87c1bd755\">\n",
              "    <div class=\"colab-df-container\">\n",
              "      <div>\n",
              "<style scoped>\n",
              "    .dataframe tbody tr th:only-of-type {\n",
              "        vertical-align: middle;\n",
              "    }\n",
              "\n",
              "    .dataframe tbody tr th {\n",
              "        vertical-align: top;\n",
              "    }\n",
              "\n",
              "    .dataframe thead th {\n",
              "        text-align: right;\n",
              "    }\n",
              "</style>\n",
              "<table border=\"1\" class=\"dataframe\">\n",
              "  <thead>\n",
              "    <tr style=\"text-align: right;\">\n",
              "      <th></th>\n",
              "      <th>DR_NO</th>\n",
              "      <th>Date Rptd</th>\n",
              "      <th>DATE OCC</th>\n",
              "      <th>TIME OCC</th>\n",
              "      <th>AREA</th>\n",
              "      <th>AREA NAME</th>\n",
              "      <th>Rpt Dist No</th>\n",
              "      <th>Part 1-2</th>\n",
              "      <th>Crm Cd</th>\n",
              "      <th>Crm Cd Desc</th>\n",
              "      <th>...</th>\n",
              "      <th>Crm Cd 2</th>\n",
              "      <th>Crm Cd 3</th>\n",
              "      <th>Crm Cd 4</th>\n",
              "      <th>LOCATION</th>\n",
              "      <th>Cross Street</th>\n",
              "      <th>LAT</th>\n",
              "      <th>LON</th>\n",
              "      <th>Year</th>\n",
              "      <th>Month</th>\n",
              "      <th>Day</th>\n",
              "    </tr>\n",
              "  </thead>\n",
              "  <tbody>\n",
              "    <tr>\n",
              "      <th>0</th>\n",
              "      <td>1307355</td>\n",
              "      <td>02/20/2010 12:00:00 AM</td>\n",
              "      <td>2010-02-20</td>\n",
              "      <td>1350</td>\n",
              "      <td>13.0</td>\n",
              "      <td>Newton</td>\n",
              "      <td>1385</td>\n",
              "      <td>2</td>\n",
              "      <td>900</td>\n",
              "      <td>VIOLATION OF COURT ORDER</td>\n",
              "      <td>...</td>\n",
              "      <td>0.0</td>\n",
              "      <td>0.0</td>\n",
              "      <td>0.0</td>\n",
              "      <td>300 E  GAGE                         AV</td>\n",
              "      <td>N/A</td>\n",
              "      <td>33.9825</td>\n",
              "      <td>-118.2695</td>\n",
              "      <td>2010</td>\n",
              "      <td>2</td>\n",
              "      <td>20</td>\n",
              "    </tr>\n",
              "    <tr>\n",
              "      <th>3</th>\n",
              "      <td>90631215</td>\n",
              "      <td>01/05/2010 12:00:00 AM</td>\n",
              "      <td>2010-01-05</td>\n",
              "      <td>150</td>\n",
              "      <td>6.0</td>\n",
              "      <td>Hollywood</td>\n",
              "      <td>646</td>\n",
              "      <td>2</td>\n",
              "      <td>900</td>\n",
              "      <td>VIOLATION OF COURT ORDER</td>\n",
              "      <td>...</td>\n",
              "      <td>998.0</td>\n",
              "      <td>0.0</td>\n",
              "      <td>0.0</td>\n",
              "      <td>CAHUENGA                     BL</td>\n",
              "      <td>HOLLYWOOD                    BL</td>\n",
              "      <td>34.1016</td>\n",
              "      <td>-118.3295</td>\n",
              "      <td>2010</td>\n",
              "      <td>1</td>\n",
              "      <td>5</td>\n",
              "    </tr>\n",
              "    <tr>\n",
              "      <th>4</th>\n",
              "      <td>100100501</td>\n",
              "      <td>01/03/2010 12:00:00 AM</td>\n",
              "      <td>2010-01-02</td>\n",
              "      <td>2100</td>\n",
              "      <td>1.0</td>\n",
              "      <td>Central</td>\n",
              "      <td>176</td>\n",
              "      <td>1</td>\n",
              "      <td>122</td>\n",
              "      <td>RAPE, ATTEMPTED</td>\n",
              "      <td>...</td>\n",
              "      <td>0.0</td>\n",
              "      <td>0.0</td>\n",
              "      <td>0.0</td>\n",
              "      <td>8TH                          ST</td>\n",
              "      <td>SAN PEDRO                    ST</td>\n",
              "      <td>34.0387</td>\n",
              "      <td>-118.2488</td>\n",
              "      <td>2010</td>\n",
              "      <td>1</td>\n",
              "      <td>2</td>\n",
              "    </tr>\n",
              "    <tr>\n",
              "      <th>5</th>\n",
              "      <td>100100506</td>\n",
              "      <td>01/05/2010 12:00:00 AM</td>\n",
              "      <td>2010-01-04</td>\n",
              "      <td>1650</td>\n",
              "      <td>1.0</td>\n",
              "      <td>Central</td>\n",
              "      <td>162</td>\n",
              "      <td>1</td>\n",
              "      <td>442</td>\n",
              "      <td>SHOPLIFTING - PETTY THEFT ($950 &amp; UNDER)</td>\n",
              "      <td>...</td>\n",
              "      <td>0.0</td>\n",
              "      <td>0.0</td>\n",
              "      <td>0.0</td>\n",
              "      <td>700 W  7TH                          ST</td>\n",
              "      <td>N/A</td>\n",
              "      <td>34.0480</td>\n",
              "      <td>-118.2577</td>\n",
              "      <td>2010</td>\n",
              "      <td>1</td>\n",
              "      <td>4</td>\n",
              "    </tr>\n",
              "    <tr>\n",
              "      <th>6</th>\n",
              "      <td>100100508</td>\n",
              "      <td>01/08/2010 12:00:00 AM</td>\n",
              "      <td>2010-01-07</td>\n",
              "      <td>2005</td>\n",
              "      <td>1.0</td>\n",
              "      <td>Central</td>\n",
              "      <td>182</td>\n",
              "      <td>1</td>\n",
              "      <td>330</td>\n",
              "      <td>BURGLARY FROM VEHICLE</td>\n",
              "      <td>...</td>\n",
              "      <td>0.0</td>\n",
              "      <td>0.0</td>\n",
              "      <td>0.0</td>\n",
              "      <td>PICO                         BL</td>\n",
              "      <td>GRAND                        AV</td>\n",
              "      <td>34.0389</td>\n",
              "      <td>-118.2643</td>\n",
              "      <td>2010</td>\n",
              "      <td>1</td>\n",
              "      <td>7</td>\n",
              "    </tr>\n",
              "  </tbody>\n",
              "</table>\n",
              "<p>5 rows × 31 columns</p>\n",
              "</div>\n",
              "      <button class=\"colab-df-convert\" onclick=\"convertToInteractive('df-6d6bf1c7-a1a7-41b2-8a9c-b5d87c1bd755')\"\n",
              "              title=\"Convert this dataframe to an interactive table.\"\n",
              "              style=\"display:none;\">\n",
              "        \n",
              "  <svg xmlns=\"http://www.w3.org/2000/svg\" height=\"24px\"viewBox=\"0 0 24 24\"\n",
              "       width=\"24px\">\n",
              "    <path d=\"M0 0h24v24H0V0z\" fill=\"none\"/>\n",
              "    <path d=\"M18.56 5.44l.94 2.06.94-2.06 2.06-.94-2.06-.94-.94-2.06-.94 2.06-2.06.94zm-11 1L8.5 8.5l.94-2.06 2.06-.94-2.06-.94L8.5 2.5l-.94 2.06-2.06.94zm10 10l.94 2.06.94-2.06 2.06-.94-2.06-.94-.94-2.06-.94 2.06-2.06.94z\"/><path d=\"M17.41 7.96l-1.37-1.37c-.4-.4-.92-.59-1.43-.59-.52 0-1.04.2-1.43.59L10.3 9.45l-7.72 7.72c-.78.78-.78 2.05 0 2.83L4 21.41c.39.39.9.59 1.41.59.51 0 1.02-.2 1.41-.59l7.78-7.78 2.81-2.81c.8-.78.8-2.07 0-2.86zM5.41 20L4 18.59l7.72-7.72 1.47 1.35L5.41 20z\"/>\n",
              "  </svg>\n",
              "      </button>\n",
              "      \n",
              "  <style>\n",
              "    .colab-df-container {\n",
              "      display:flex;\n",
              "      flex-wrap:wrap;\n",
              "      gap: 12px;\n",
              "    }\n",
              "\n",
              "    .colab-df-convert {\n",
              "      background-color: #E8F0FE;\n",
              "      border: none;\n",
              "      border-radius: 50%;\n",
              "      cursor: pointer;\n",
              "      display: none;\n",
              "      fill: #1967D2;\n",
              "      height: 32px;\n",
              "      padding: 0 0 0 0;\n",
              "      width: 32px;\n",
              "    }\n",
              "\n",
              "    .colab-df-convert:hover {\n",
              "      background-color: #E2EBFA;\n",
              "      box-shadow: 0px 1px 2px rgba(60, 64, 67, 0.3), 0px 1px 3px 1px rgba(60, 64, 67, 0.15);\n",
              "      fill: #174EA6;\n",
              "    }\n",
              "\n",
              "    [theme=dark] .colab-df-convert {\n",
              "      background-color: #3B4455;\n",
              "      fill: #D2E3FC;\n",
              "    }\n",
              "\n",
              "    [theme=dark] .colab-df-convert:hover {\n",
              "      background-color: #434B5C;\n",
              "      box-shadow: 0px 1px 3px 1px rgba(0, 0, 0, 0.15);\n",
              "      filter: drop-shadow(0px 1px 2px rgba(0, 0, 0, 0.3));\n",
              "      fill: #FFFFFF;\n",
              "    }\n",
              "  </style>\n",
              "\n",
              "      <script>\n",
              "        const buttonEl =\n",
              "          document.querySelector('#df-6d6bf1c7-a1a7-41b2-8a9c-b5d87c1bd755 button.colab-df-convert');\n",
              "        buttonEl.style.display =\n",
              "          google.colab.kernel.accessAllowed ? 'block' : 'none';\n",
              "\n",
              "        async function convertToInteractive(key) {\n",
              "          const element = document.querySelector('#df-6d6bf1c7-a1a7-41b2-8a9c-b5d87c1bd755');\n",
              "          const dataTable =\n",
              "            await google.colab.kernel.invokeFunction('convertToInteractive',\n",
              "                                                     [key], {});\n",
              "          if (!dataTable) return;\n",
              "\n",
              "          const docLinkHtml = 'Like what you see? Visit the ' +\n",
              "            '<a target=\"_blank\" href=https://colab.research.google.com/notebooks/data_table.ipynb>data table notebook</a>'\n",
              "            + ' to learn more about interactive tables.';\n",
              "          element.innerHTML = '';\n",
              "          dataTable['output_type'] = 'display_data';\n",
              "          await google.colab.output.renderOutput(dataTable, element);\n",
              "          const docLink = document.createElement('div');\n",
              "          docLink.innerHTML = docLinkHtml;\n",
              "          element.appendChild(docLink);\n",
              "        }\n",
              "      </script>\n",
              "    </div>\n",
              "  </div>\n",
              "  "
            ],
            "text/plain": [
              "       DR_NO               Date Rptd   DATE OCC  TIME OCC  AREA   AREA NAME  \\\n",
              "0    1307355  02/20/2010 12:00:00 AM 2010-02-20      1350   13.0     Newton   \n",
              "3   90631215  01/05/2010 12:00:00 AM 2010-01-05       150    6.0  Hollywood   \n",
              "4  100100501  01/03/2010 12:00:00 AM 2010-01-02      2100    1.0    Central   \n",
              "5  100100506  01/05/2010 12:00:00 AM 2010-01-04      1650    1.0    Central   \n",
              "6  100100508  01/08/2010 12:00:00 AM 2010-01-07      2005    1.0    Central   \n",
              "\n",
              "   Rpt Dist No  Part 1-2  Crm Cd                               Crm Cd Desc  \\\n",
              "0         1385         2     900                  VIOLATION OF COURT ORDER   \n",
              "3          646         2     900                  VIOLATION OF COURT ORDER   \n",
              "4          176         1     122                           RAPE, ATTEMPTED   \n",
              "5          162         1     442  SHOPLIFTING - PETTY THEFT ($950 & UNDER)   \n",
              "6          182         1     330                     BURGLARY FROM VEHICLE   \n",
              "\n",
              "   ... Crm Cd 2  Crm Cd 3  Crm Cd 4                                LOCATION  \\\n",
              "0  ...      0.0       0.0       0.0  300 E  GAGE                         AV   \n",
              "3  ...    998.0       0.0       0.0         CAHUENGA                     BL   \n",
              "4  ...      0.0       0.0       0.0         8TH                          ST   \n",
              "5  ...      0.0       0.0       0.0  700 W  7TH                          ST   \n",
              "6  ...      0.0       0.0       0.0         PICO                         BL   \n",
              "\n",
              "                      Cross Street      LAT       LON  Year Month Day  \n",
              "0                              N/A  33.9825 -118.2695  2010     2  20  \n",
              "3  HOLLYWOOD                    BL  34.1016 -118.3295  2010     1   5  \n",
              "4  SAN PEDRO                    ST  34.0387 -118.2488  2010     1   2  \n",
              "5                              N/A  34.0480 -118.2577  2010     1   4  \n",
              "6  GRAND                        AV  34.0389 -118.2643  2010     1   7  \n",
              "\n",
              "[5 rows x 31 columns]"
            ]
          },
          "execution_count": 149,
          "metadata": {},
          "output_type": "execute_result"
        }
      ],
      "source": [
        "crime_data.head()"
      ]
    },
    {
      "cell_type": "code",
      "execution_count": null,
      "metadata": {
        "id": "n23iPzW4hdah"
      },
      "outputs": [],
      "source": [
        "#Creating the time dataframe that holds the date field and the frequency of crimes on that day.\n",
        "#FB Prophet rquires the columns to be labelled as \"ds\" and \"y\".\n",
        "time_df=pd.DataFrame(columns=['ds','y'])\n",
        "time_df['ds']=crime_data['DATE OCC'].unique()\n",
        "time_df['y']=crime_data['DATE OCC'].value_counts().values"
      ]
    },
    {
      "cell_type": "code",
      "execution_count": null,
      "metadata": {
        "colab": {
          "base_uri": "https://localhost:8080/",
          "height": 206
        },
        "id": "cjMB3nLUlCBg",
        "outputId": "29208523-0017-4525-940b-3574269f5211"
      },
      "outputs": [
        {
          "data": {
            "text/html": [
              "\n",
              "  <div id=\"df-9c1d5300-1128-4e78-b0aa-692da5a6ba0d\">\n",
              "    <div class=\"colab-df-container\">\n",
              "      <div>\n",
              "<style scoped>\n",
              "    .dataframe tbody tr th:only-of-type {\n",
              "        vertical-align: middle;\n",
              "    }\n",
              "\n",
              "    .dataframe tbody tr th {\n",
              "        vertical-align: top;\n",
              "    }\n",
              "\n",
              "    .dataframe thead th {\n",
              "        text-align: right;\n",
              "    }\n",
              "</style>\n",
              "<table border=\"1\" class=\"dataframe\">\n",
              "  <thead>\n",
              "    <tr style=\"text-align: right;\">\n",
              "      <th></th>\n",
              "      <th>ds</th>\n",
              "      <th>y</th>\n",
              "    </tr>\n",
              "  </thead>\n",
              "  <tbody>\n",
              "    <tr>\n",
              "      <th>0</th>\n",
              "      <td>2010-02-20</td>\n",
              "      <td>2154</td>\n",
              "    </tr>\n",
              "    <tr>\n",
              "      <th>1</th>\n",
              "      <td>2010-01-05</td>\n",
              "      <td>2090</td>\n",
              "    </tr>\n",
              "    <tr>\n",
              "      <th>2</th>\n",
              "      <td>2010-01-02</td>\n",
              "      <td>1721</td>\n",
              "    </tr>\n",
              "    <tr>\n",
              "      <th>3</th>\n",
              "      <td>2010-01-04</td>\n",
              "      <td>1528</td>\n",
              "    </tr>\n",
              "    <tr>\n",
              "      <th>4</th>\n",
              "      <td>2010-01-07</td>\n",
              "      <td>1446</td>\n",
              "    </tr>\n",
              "  </tbody>\n",
              "</table>\n",
              "</div>\n",
              "      <button class=\"colab-df-convert\" onclick=\"convertToInteractive('df-9c1d5300-1128-4e78-b0aa-692da5a6ba0d')\"\n",
              "              title=\"Convert this dataframe to an interactive table.\"\n",
              "              style=\"display:none;\">\n",
              "        \n",
              "  <svg xmlns=\"http://www.w3.org/2000/svg\" height=\"24px\"viewBox=\"0 0 24 24\"\n",
              "       width=\"24px\">\n",
              "    <path d=\"M0 0h24v24H0V0z\" fill=\"none\"/>\n",
              "    <path d=\"M18.56 5.44l.94 2.06.94-2.06 2.06-.94-2.06-.94-.94-2.06-.94 2.06-2.06.94zm-11 1L8.5 8.5l.94-2.06 2.06-.94-2.06-.94L8.5 2.5l-.94 2.06-2.06.94zm10 10l.94 2.06.94-2.06 2.06-.94-2.06-.94-.94-2.06-.94 2.06-2.06.94z\"/><path d=\"M17.41 7.96l-1.37-1.37c-.4-.4-.92-.59-1.43-.59-.52 0-1.04.2-1.43.59L10.3 9.45l-7.72 7.72c-.78.78-.78 2.05 0 2.83L4 21.41c.39.39.9.59 1.41.59.51 0 1.02-.2 1.41-.59l7.78-7.78 2.81-2.81c.8-.78.8-2.07 0-2.86zM5.41 20L4 18.59l7.72-7.72 1.47 1.35L5.41 20z\"/>\n",
              "  </svg>\n",
              "      </button>\n",
              "      \n",
              "  <style>\n",
              "    .colab-df-container {\n",
              "      display:flex;\n",
              "      flex-wrap:wrap;\n",
              "      gap: 12px;\n",
              "    }\n",
              "\n",
              "    .colab-df-convert {\n",
              "      background-color: #E8F0FE;\n",
              "      border: none;\n",
              "      border-radius: 50%;\n",
              "      cursor: pointer;\n",
              "      display: none;\n",
              "      fill: #1967D2;\n",
              "      height: 32px;\n",
              "      padding: 0 0 0 0;\n",
              "      width: 32px;\n",
              "    }\n",
              "\n",
              "    .colab-df-convert:hover {\n",
              "      background-color: #E2EBFA;\n",
              "      box-shadow: 0px 1px 2px rgba(60, 64, 67, 0.3), 0px 1px 3px 1px rgba(60, 64, 67, 0.15);\n",
              "      fill: #174EA6;\n",
              "    }\n",
              "\n",
              "    [theme=dark] .colab-df-convert {\n",
              "      background-color: #3B4455;\n",
              "      fill: #D2E3FC;\n",
              "    }\n",
              "\n",
              "    [theme=dark] .colab-df-convert:hover {\n",
              "      background-color: #434B5C;\n",
              "      box-shadow: 0px 1px 3px 1px rgba(0, 0, 0, 0.15);\n",
              "      filter: drop-shadow(0px 1px 2px rgba(0, 0, 0, 0.3));\n",
              "      fill: #FFFFFF;\n",
              "    }\n",
              "  </style>\n",
              "\n",
              "      <script>\n",
              "        const buttonEl =\n",
              "          document.querySelector('#df-9c1d5300-1128-4e78-b0aa-692da5a6ba0d button.colab-df-convert');\n",
              "        buttonEl.style.display =\n",
              "          google.colab.kernel.accessAllowed ? 'block' : 'none';\n",
              "\n",
              "        async function convertToInteractive(key) {\n",
              "          const element = document.querySelector('#df-9c1d5300-1128-4e78-b0aa-692da5a6ba0d');\n",
              "          const dataTable =\n",
              "            await google.colab.kernel.invokeFunction('convertToInteractive',\n",
              "                                                     [key], {});\n",
              "          if (!dataTable) return;\n",
              "\n",
              "          const docLinkHtml = 'Like what you see? Visit the ' +\n",
              "            '<a target=\"_blank\" href=https://colab.research.google.com/notebooks/data_table.ipynb>data table notebook</a>'\n",
              "            + ' to learn more about interactive tables.';\n",
              "          element.innerHTML = '';\n",
              "          dataTable['output_type'] = 'display_data';\n",
              "          await google.colab.output.renderOutput(dataTable, element);\n",
              "          const docLink = document.createElement('div');\n",
              "          docLink.innerHTML = docLinkHtml;\n",
              "          element.appendChild(docLink);\n",
              "        }\n",
              "      </script>\n",
              "    </div>\n",
              "  </div>\n",
              "  "
            ],
            "text/plain": [
              "          ds     y\n",
              "0 2010-02-20  2154\n",
              "1 2010-01-05  2090\n",
              "2 2010-01-02  1721\n",
              "3 2010-01-04  1528\n",
              "4 2010-01-07  1446"
            ]
          },
          "execution_count": 151,
          "metadata": {},
          "output_type": "execute_result"
        }
      ],
      "source": [
        "time_df.head()"
      ]
    },
    {
      "cell_type": "code",
      "execution_count": null,
      "metadata": {
        "colab": {
          "base_uri": "https://localhost:8080/"
        },
        "id": "9K3HY3D0krx3",
        "outputId": "e2fac7a0-40c4-4147-9a97-9e8165b9c1a8"
      },
      "outputs": [
        {
          "name": "stderr",
          "output_type": "stream",
          "text": [
            "INFO:fbprophet:Disabling daily seasonality. Run prophet with daily_seasonality=True to override this.\n"
          ]
        },
        {
          "data": {
            "text/plain": [
              "<fbprophet.forecaster.Prophet at 0x7f08a15f7110>"
            ]
          },
          "execution_count": 152,
          "metadata": {},
          "output_type": "execute_result"
        }
      ],
      "source": [
        "#Creating the FB Prophet model based on the time dataframe\n",
        "fbp=Prophet()\n",
        "fbp.fit(time_df)"
      ]
    },
    {
      "cell_type": "code",
      "execution_count": null,
      "metadata": {
        "colab": {
          "base_uri": "https://localhost:8080/",
          "height": 357
        },
        "id": "19S9ej4ImE2y",
        "outputId": "e5fb0e5f-d923-4b2b-84d2-402e091a1e88"
      },
      "outputs": [
        {
          "data": {
            "text/html": [
              "\n",
              "  <div id=\"df-068210d8-5662-4527-8981-1e86b807ed2b\">\n",
              "    <div class=\"colab-df-container\">\n",
              "      <div>\n",
              "<style scoped>\n",
              "    .dataframe tbody tr th:only-of-type {\n",
              "        vertical-align: middle;\n",
              "    }\n",
              "\n",
              "    .dataframe tbody tr th {\n",
              "        vertical-align: top;\n",
              "    }\n",
              "\n",
              "    .dataframe thead th {\n",
              "        text-align: right;\n",
              "    }\n",
              "</style>\n",
              "<table border=\"1\" class=\"dataframe\">\n",
              "  <thead>\n",
              "    <tr style=\"text-align: right;\">\n",
              "      <th></th>\n",
              "      <th>ds</th>\n",
              "      <th>trend</th>\n",
              "      <th>yhat_lower</th>\n",
              "      <th>yhat_upper</th>\n",
              "      <th>trend_lower</th>\n",
              "      <th>trend_upper</th>\n",
              "      <th>additive_terms</th>\n",
              "      <th>additive_terms_lower</th>\n",
              "      <th>additive_terms_upper</th>\n",
              "      <th>weekly</th>\n",
              "      <th>weekly_lower</th>\n",
              "      <th>weekly_upper</th>\n",
              "      <th>yearly</th>\n",
              "      <th>yearly_lower</th>\n",
              "      <th>yearly_upper</th>\n",
              "      <th>multiplicative_terms</th>\n",
              "      <th>multiplicative_terms_lower</th>\n",
              "      <th>multiplicative_terms_upper</th>\n",
              "      <th>yhat</th>\n",
              "    </tr>\n",
              "  </thead>\n",
              "  <tbody>\n",
              "    <tr>\n",
              "      <th>0</th>\n",
              "      <td>2010-01-01</td>\n",
              "      <td>809.862096</td>\n",
              "      <td>772.028914</td>\n",
              "      <td>884.011803</td>\n",
              "      <td>809.862096</td>\n",
              "      <td>809.862096</td>\n",
              "      <td>18.214134</td>\n",
              "      <td>18.214134</td>\n",
              "      <td>18.214134</td>\n",
              "      <td>-0.250834</td>\n",
              "      <td>-0.250834</td>\n",
              "      <td>-0.250834</td>\n",
              "      <td>18.464967</td>\n",
              "      <td>18.464967</td>\n",
              "      <td>18.464967</td>\n",
              "      <td>0.0</td>\n",
              "      <td>0.0</td>\n",
              "      <td>0.0</td>\n",
              "      <td>828.076230</td>\n",
              "    </tr>\n",
              "    <tr>\n",
              "      <th>1</th>\n",
              "      <td>2010-01-02</td>\n",
              "      <td>808.682597</td>\n",
              "      <td>775.855595</td>\n",
              "      <td>894.204552</td>\n",
              "      <td>808.682597</td>\n",
              "      <td>808.682597</td>\n",
              "      <td>23.718654</td>\n",
              "      <td>23.718654</td>\n",
              "      <td>23.718654</td>\n",
              "      <td>5.475876</td>\n",
              "      <td>5.475876</td>\n",
              "      <td>5.475876</td>\n",
              "      <td>18.242778</td>\n",
              "      <td>18.242778</td>\n",
              "      <td>18.242778</td>\n",
              "      <td>0.0</td>\n",
              "      <td>0.0</td>\n",
              "      <td>0.0</td>\n",
              "      <td>832.401251</td>\n",
              "    </tr>\n",
              "    <tr>\n",
              "      <th>2</th>\n",
              "      <td>2010-01-03</td>\n",
              "      <td>807.503098</td>\n",
              "      <td>766.516744</td>\n",
              "      <td>880.175835</td>\n",
              "      <td>807.503098</td>\n",
              "      <td>807.503098</td>\n",
              "      <td>16.268256</td>\n",
              "      <td>16.268256</td>\n",
              "      <td>16.268256</td>\n",
              "      <td>-1.501778</td>\n",
              "      <td>-1.501778</td>\n",
              "      <td>-1.501778</td>\n",
              "      <td>17.770033</td>\n",
              "      <td>17.770033</td>\n",
              "      <td>17.770033</td>\n",
              "      <td>0.0</td>\n",
              "      <td>0.0</td>\n",
              "      <td>0.0</td>\n",
              "      <td>823.771354</td>\n",
              "    </tr>\n",
              "    <tr>\n",
              "      <th>3</th>\n",
              "      <td>2010-01-04</td>\n",
              "      <td>806.323598</td>\n",
              "      <td>766.456375</td>\n",
              "      <td>877.370876</td>\n",
              "      <td>806.323598</td>\n",
              "      <td>806.323598</td>\n",
              "      <td>16.455137</td>\n",
              "      <td>16.455137</td>\n",
              "      <td>16.455137</td>\n",
              "      <td>-0.587822</td>\n",
              "      <td>-0.587822</td>\n",
              "      <td>-0.587822</td>\n",
              "      <td>17.042959</td>\n",
              "      <td>17.042959</td>\n",
              "      <td>17.042959</td>\n",
              "      <td>0.0</td>\n",
              "      <td>0.0</td>\n",
              "      <td>0.0</td>\n",
              "      <td>822.778736</td>\n",
              "    </tr>\n",
              "    <tr>\n",
              "      <th>4</th>\n",
              "      <td>2010-01-05</td>\n",
              "      <td>805.144099</td>\n",
              "      <td>761.669564</td>\n",
              "      <td>878.962363</td>\n",
              "      <td>805.144099</td>\n",
              "      <td>805.144099</td>\n",
              "      <td>14.753823</td>\n",
              "      <td>14.753823</td>\n",
              "      <td>14.753823</td>\n",
              "      <td>-1.309259</td>\n",
              "      <td>-1.309259</td>\n",
              "      <td>-1.309259</td>\n",
              "      <td>16.063083</td>\n",
              "      <td>16.063083</td>\n",
              "      <td>16.063083</td>\n",
              "      <td>0.0</td>\n",
              "      <td>0.0</td>\n",
              "      <td>0.0</td>\n",
              "      <td>819.897922</td>\n",
              "    </tr>\n",
              "  </tbody>\n",
              "</table>\n",
              "</div>\n",
              "      <button class=\"colab-df-convert\" onclick=\"convertToInteractive('df-068210d8-5662-4527-8981-1e86b807ed2b')\"\n",
              "              title=\"Convert this dataframe to an interactive table.\"\n",
              "              style=\"display:none;\">\n",
              "        \n",
              "  <svg xmlns=\"http://www.w3.org/2000/svg\" height=\"24px\"viewBox=\"0 0 24 24\"\n",
              "       width=\"24px\">\n",
              "    <path d=\"M0 0h24v24H0V0z\" fill=\"none\"/>\n",
              "    <path d=\"M18.56 5.44l.94 2.06.94-2.06 2.06-.94-2.06-.94-.94-2.06-.94 2.06-2.06.94zm-11 1L8.5 8.5l.94-2.06 2.06-.94-2.06-.94L8.5 2.5l-.94 2.06-2.06.94zm10 10l.94 2.06.94-2.06 2.06-.94-2.06-.94-.94-2.06-.94 2.06-2.06.94z\"/><path d=\"M17.41 7.96l-1.37-1.37c-.4-.4-.92-.59-1.43-.59-.52 0-1.04.2-1.43.59L10.3 9.45l-7.72 7.72c-.78.78-.78 2.05 0 2.83L4 21.41c.39.39.9.59 1.41.59.51 0 1.02-.2 1.41-.59l7.78-7.78 2.81-2.81c.8-.78.8-2.07 0-2.86zM5.41 20L4 18.59l7.72-7.72 1.47 1.35L5.41 20z\"/>\n",
              "  </svg>\n",
              "      </button>\n",
              "      \n",
              "  <style>\n",
              "    .colab-df-container {\n",
              "      display:flex;\n",
              "      flex-wrap:wrap;\n",
              "      gap: 12px;\n",
              "    }\n",
              "\n",
              "    .colab-df-convert {\n",
              "      background-color: #E8F0FE;\n",
              "      border: none;\n",
              "      border-radius: 50%;\n",
              "      cursor: pointer;\n",
              "      display: none;\n",
              "      fill: #1967D2;\n",
              "      height: 32px;\n",
              "      padding: 0 0 0 0;\n",
              "      width: 32px;\n",
              "    }\n",
              "\n",
              "    .colab-df-convert:hover {\n",
              "      background-color: #E2EBFA;\n",
              "      box-shadow: 0px 1px 2px rgba(60, 64, 67, 0.3), 0px 1px 3px 1px rgba(60, 64, 67, 0.15);\n",
              "      fill: #174EA6;\n",
              "    }\n",
              "\n",
              "    [theme=dark] .colab-df-convert {\n",
              "      background-color: #3B4455;\n",
              "      fill: #D2E3FC;\n",
              "    }\n",
              "\n",
              "    [theme=dark] .colab-df-convert:hover {\n",
              "      background-color: #434B5C;\n",
              "      box-shadow: 0px 1px 3px 1px rgba(0, 0, 0, 0.15);\n",
              "      filter: drop-shadow(0px 1px 2px rgba(0, 0, 0, 0.3));\n",
              "      fill: #FFFFFF;\n",
              "    }\n",
              "  </style>\n",
              "\n",
              "      <script>\n",
              "        const buttonEl =\n",
              "          document.querySelector('#df-068210d8-5662-4527-8981-1e86b807ed2b button.colab-df-convert');\n",
              "        buttonEl.style.display =\n",
              "          google.colab.kernel.accessAllowed ? 'block' : 'none';\n",
              "\n",
              "        async function convertToInteractive(key) {\n",
              "          const element = document.querySelector('#df-068210d8-5662-4527-8981-1e86b807ed2b');\n",
              "          const dataTable =\n",
              "            await google.colab.kernel.invokeFunction('convertToInteractive',\n",
              "                                                     [key], {});\n",
              "          if (!dataTable) return;\n",
              "\n",
              "          const docLinkHtml = 'Like what you see? Visit the ' +\n",
              "            '<a target=\"_blank\" href=https://colab.research.google.com/notebooks/data_table.ipynb>data table notebook</a>'\n",
              "            + ' to learn more about interactive tables.';\n",
              "          element.innerHTML = '';\n",
              "          dataTable['output_type'] = 'display_data';\n",
              "          await google.colab.output.renderOutput(dataTable, element);\n",
              "          const docLink = document.createElement('div');\n",
              "          docLink.innerHTML = docLinkHtml;\n",
              "          element.appendChild(docLink);\n",
              "        }\n",
              "      </script>\n",
              "    </div>\n",
              "  </div>\n",
              "  "
            ],
            "text/plain": [
              "          ds       trend  yhat_lower  yhat_upper  trend_lower  trend_upper  \\\n",
              "0 2010-01-01  809.862096  772.028914  884.011803   809.862096   809.862096   \n",
              "1 2010-01-02  808.682597  775.855595  894.204552   808.682597   808.682597   \n",
              "2 2010-01-03  807.503098  766.516744  880.175835   807.503098   807.503098   \n",
              "3 2010-01-04  806.323598  766.456375  877.370876   806.323598   806.323598   \n",
              "4 2010-01-05  805.144099  761.669564  878.962363   805.144099   805.144099   \n",
              "\n",
              "   additive_terms  additive_terms_lower  additive_terms_upper    weekly  \\\n",
              "0       18.214134             18.214134             18.214134 -0.250834   \n",
              "1       23.718654             23.718654             23.718654  5.475876   \n",
              "2       16.268256             16.268256             16.268256 -1.501778   \n",
              "3       16.455137             16.455137             16.455137 -0.587822   \n",
              "4       14.753823             14.753823             14.753823 -1.309259   \n",
              "\n",
              "   weekly_lower  weekly_upper     yearly  yearly_lower  yearly_upper  \\\n",
              "0     -0.250834     -0.250834  18.464967     18.464967     18.464967   \n",
              "1      5.475876      5.475876  18.242778     18.242778     18.242778   \n",
              "2     -1.501778     -1.501778  17.770033     17.770033     17.770033   \n",
              "3     -0.587822     -0.587822  17.042959     17.042959     17.042959   \n",
              "4     -1.309259     -1.309259  16.063083     16.063083     16.063083   \n",
              "\n",
              "   multiplicative_terms  multiplicative_terms_lower  \\\n",
              "0                   0.0                         0.0   \n",
              "1                   0.0                         0.0   \n",
              "2                   0.0                         0.0   \n",
              "3                   0.0                         0.0   \n",
              "4                   0.0                         0.0   \n",
              "\n",
              "   multiplicative_terms_upper        yhat  \n",
              "0                         0.0  828.076230  \n",
              "1                         0.0  832.401251  \n",
              "2                         0.0  823.771354  \n",
              "3                         0.0  822.778736  \n",
              "4                         0.0  819.897922  "
            ]
          },
          "execution_count": 153,
          "metadata": {},
          "output_type": "execute_result"
        }
      ],
      "source": [
        "#predicting crimes 3 years ahead of the current date\n",
        "future_crimes=fbp.make_future_dataframe(periods=365*3)\n",
        "crime_pred=fbp.predict(future_crimes)\n",
        "crime_pred.head()"
      ]
    },
    {
      "cell_type": "code",
      "execution_count": null,
      "metadata": {
        "colab": {
          "base_uri": "https://localhost:8080/",
          "height": 459
        },
        "id": "caE9HYirmY4O",
        "outputId": "e159c6ba-8d05-4725-9c4d-6c27fa496d6f"
      },
      "outputs": [
        {
          "data": {
            "text/plain": [
              "Text(53.625, 0.5, 'Number of crimes')"
            ]
          },
          "execution_count": 154,
          "metadata": {},
          "output_type": "execute_result"
        },
        {
          "data": {
            "image/png": "[encoded data removed]",
            "text/plain": [
              "<Figure size 720x432 with 1 Axes>"
            ]
          },
          "metadata": {},
          "output_type": "display_data"
        }
      ],
      "source": [
        "fbp.plot(crime_pred)\n",
        "plt.xlabel(\"Year\")\n",
        "plt.ylabel(\"Number of crimes\")"
      ]
    },
    {
      "cell_type": "markdown",
      "source": [
        "### **Machine learning algorithms for classification**"
      ],
      "metadata": {
        "id": "XV3Zoolph2Wc"
      }
    },
    {
      "cell_type": "markdown",
      "metadata": {
        "id": "5YygAweXKui_"
      },
      "source": [
        "### **Classification**\n",
        "\n",
        "My goal in this project is to classify and predict the type of crimes that could occur based on certain other features. In order to classify, there are two general methods, binary class classification and multi-class classification.\n",
        "\n",
        "I will perform both of them by mapping the crime type into a range using information from the county police department."
      ]
    },
    {
      "cell_type": "markdown",
      "metadata": {
        "id": "0iQ2lvvPJmB8"
      },
      "source": [
        "**Binary-class classification**\n",
        "\n",
        "Here, I categorized the crimes based on the whether they were violent or not. If the criminal used his/her hands,body parts or any other instrument, it is classified as a violent crime. Basically, anything that is used to exhibit force is considered a violent crime."
      ]
    },
    {
      "cell_type": "code",
      "execution_count": null,
      "metadata": {
        "id": "mI-3h7JcLcK0"
      },
      "outputs": [],
      "source": [
        "crime_data.loc[crime_data['Weapon Desc']=='NO WEAPON','Violent']=0"
      ]
    },
    {
      "cell_type": "code",
      "execution_count": null,
      "metadata": {
        "id": "NshcXM0VM8B5"
      },
      "outputs": [],
      "source": [
        "crime_data[\"Violent\"].fillna(1,inplace=True)"
      ]
    },
    {
      "cell_type": "code",
      "execution_count": null,
      "metadata": {
        "colab": {
          "base_uri": "https://localhost:8080/"
        },
        "id": "jXHbfrurNNmo",
        "outputId": "e35dea29-42fe-423b-8fc6-b307ba0c7d32"
      },
      "outputs": [
        {
          "data": {
            "text/plain": [
              "0.0    1207385\n",
              "1.0     787103\n",
              "Name: Violent, dtype: int64"
            ]
          },
          "execution_count": 157,
          "metadata": {},
          "output_type": "execute_result"
        }
      ],
      "source": [
        "crime_data['Violent'].value_counts()"
      ]
    },
    {
      "cell_type": "code",
      "execution_count": null,
      "metadata": {
        "id": "tSajxmKbCsHT"
      },
      "outputs": [],
      "source": [
        "#Feature selection\n",
        "crime_data_binary=crime_data[['Rpt Dist No','Crm Cd','Vict Age','Vict Sex','Vict Descent','Premis Cd','LAT','LON','Violent']]"
      ]
    },
    {
      "cell_type": "code",
      "execution_count": null,
      "metadata": {
        "colab": {
          "base_uri": "https://localhost:8080/",
          "height": 206
        },
        "id": "00EQJCLJDdgt",
        "outputId": "703cf376-ff87-4a06-854d-ce31b676b614"
      },
      "outputs": [
        {
          "data": {
            "text/html": [
              "\n",
              "  <div id=\"df-0725641f-c543-4900-98ae-703db0f4d2d8\">\n",
              "    <div class=\"colab-df-container\">\n",
              "      <div>\n",
              "<style scoped>\n",
              "    .dataframe tbody tr th:only-of-type {\n",
              "        vertical-align: middle;\n",
              "    }\n",
              "\n",
              "    .dataframe tbody tr th {\n",
              "        vertical-align: top;\n",
              "    }\n",
              "\n",
              "    .dataframe thead th {\n",
              "        text-align: right;\n",
              "    }\n",
              "</style>\n",
              "<table border=\"1\" class=\"dataframe\">\n",
              "  <thead>\n",
              "    <tr style=\"text-align: right;\">\n",
              "      <th></th>\n",
              "      <th>Rpt Dist No</th>\n",
              "      <th>Crm Cd</th>\n",
              "      <th>Vict Age</th>\n",
              "      <th>Vict Sex</th>\n",
              "      <th>Vict Descent</th>\n",
              "      <th>Premis Cd</th>\n",
              "      <th>LAT</th>\n",
              "      <th>LON</th>\n",
              "      <th>Violent</th>\n",
              "    </tr>\n",
              "  </thead>\n",
              "  <tbody>\n",
              "    <tr>\n",
              "      <th>0</th>\n",
              "      <td>1385</td>\n",
              "      <td>900</td>\n",
              "      <td>48</td>\n",
              "      <td>1</td>\n",
              "      <td>1</td>\n",
              "      <td>501.0</td>\n",
              "      <td>33.9825</td>\n",
              "      <td>-118.2695</td>\n",
              "      <td>0.0</td>\n",
              "    </tr>\n",
              "    <tr>\n",
              "      <th>3</th>\n",
              "      <td>646</td>\n",
              "      <td>900</td>\n",
              "      <td>47</td>\n",
              "      <td>2</td>\n",
              "      <td>2</td>\n",
              "      <td>101.0</td>\n",
              "      <td>34.1016</td>\n",
              "      <td>-118.3295</td>\n",
              "      <td>1.0</td>\n",
              "    </tr>\n",
              "    <tr>\n",
              "      <th>4</th>\n",
              "      <td>176</td>\n",
              "      <td>122</td>\n",
              "      <td>47</td>\n",
              "      <td>2</td>\n",
              "      <td>1</td>\n",
              "      <td>103.0</td>\n",
              "      <td>34.0387</td>\n",
              "      <td>-118.2488</td>\n",
              "      <td>1.0</td>\n",
              "    </tr>\n",
              "    <tr>\n",
              "      <th>5</th>\n",
              "      <td>162</td>\n",
              "      <td>442</td>\n",
              "      <td>23</td>\n",
              "      <td>1</td>\n",
              "      <td>3</td>\n",
              "      <td>404.0</td>\n",
              "      <td>34.0480</td>\n",
              "      <td>-118.2577</td>\n",
              "      <td>0.0</td>\n",
              "    </tr>\n",
              "    <tr>\n",
              "      <th>6</th>\n",
              "      <td>182</td>\n",
              "      <td>330</td>\n",
              "      <td>46</td>\n",
              "      <td>1</td>\n",
              "      <td>1</td>\n",
              "      <td>101.0</td>\n",
              "      <td>34.0389</td>\n",
              "      <td>-118.2643</td>\n",
              "      <td>0.0</td>\n",
              "    </tr>\n",
              "  </tbody>\n",
              "</table>\n",
              "</div>\n",
              "      <button class=\"colab-df-convert\" onclick=\"convertToInteractive('df-0725641f-c543-4900-98ae-703db0f4d2d8')\"\n",
              "              title=\"Convert this dataframe to an interactive table.\"\n",
              "              style=\"display:none;\">\n",
              "        \n",
              "  <svg xmlns=\"http://www.w3.org/2000/svg\" height=\"24px\"viewBox=\"0 0 24 24\"\n",
              "       width=\"24px\">\n",
              "    <path d=\"M0 0h24v24H0V0z\" fill=\"none\"/>\n",
              "    <path d=\"M18.56 5.44l.94 2.06.94-2.06 2.06-.94-2.06-.94-.94-2.06-.94 2.06-2.06.94zm-11 1L8.5 8.5l.94-2.06 2.06-.94-2.06-.94L8.5 2.5l-.94 2.06-2.06.94zm10 10l.94 2.06.94-2.06 2.06-.94-2.06-.94-.94-2.06-.94 2.06-2.06.94z\"/><path d=\"M17.41 7.96l-1.37-1.37c-.4-.4-.92-.59-1.43-.59-.52 0-1.04.2-1.43.59L10.3 9.45l-7.72 7.72c-.78.78-.78 2.05 0 2.83L4 21.41c.39.39.9.59 1.41.59.51 0 1.02-.2 1.41-.59l7.78-7.78 2.81-2.81c.8-.78.8-2.07 0-2.86zM5.41 20L4 18.59l7.72-7.72 1.47 1.35L5.41 20z\"/>\n",
              "  </svg>\n",
              "      </button>\n",
              "      \n",
              "  <style>\n",
              "    .colab-df-container {\n",
              "      display:flex;\n",
              "      flex-wrap:wrap;\n",
              "      gap: 12px;\n",
              "    }\n",
              "\n",
              "    .colab-df-convert {\n",
              "      background-color: #E8F0FE;\n",
              "      border: none;\n",
              "      border-radius: 50%;\n",
              "      cursor: pointer;\n",
              "      display: none;\n",
              "      fill: #1967D2;\n",
              "      height: 32px;\n",
              "      padding: 0 0 0 0;\n",
              "      width: 32px;\n",
              "    }\n",
              "\n",
              "    .colab-df-convert:hover {\n",
              "      background-color: #E2EBFA;\n",
              "      box-shadow: 0px 1px 2px rgba(60, 64, 67, 0.3), 0px 1px 3px 1px rgba(60, 64, 67, 0.15);\n",
              "      fill: #174EA6;\n",
              "    }\n",
              "\n",
              "    [theme=dark] .colab-df-convert {\n",
              "      background-color: #3B4455;\n",
              "      fill: #D2E3FC;\n",
              "    }\n",
              "\n",
              "    [theme=dark] .colab-df-convert:hover {\n",
              "      background-color: #434B5C;\n",
              "      box-shadow: 0px 1px 3px 1px rgba(0, 0, 0, 0.15);\n",
              "      filter: drop-shadow(0px 1px 2px rgba(0, 0, 0, 0.3));\n",
              "      fill: #FFFFFF;\n",
              "    }\n",
              "  </style>\n",
              "\n",
              "      <script>\n",
              "        const buttonEl =\n",
              "          document.querySelector('#df-0725641f-c543-4900-98ae-703db0f4d2d8 button.colab-df-convert');\n",
              "        buttonEl.style.display =\n",
              "          google.colab.kernel.accessAllowed ? 'block' : 'none';\n",
              "\n",
              "        async function convertToInteractive(key) {\n",
              "          const element = document.querySelector('#df-0725641f-c543-4900-98ae-703db0f4d2d8');\n",
              "          const dataTable =\n",
              "            await google.colab.kernel.invokeFunction('convertToInteractive',\n",
              "                                                     [key], {});\n",
              "          if (!dataTable) return;\n",
              "\n",
              "          const docLinkHtml = 'Like what you see? Visit the ' +\n",
              "            '<a target=\"_blank\" href=https://colab.research.google.com/notebooks/data_table.ipynb>data table notebook</a>'\n",
              "            + ' to learn more about interactive tables.';\n",
              "          element.innerHTML = '';\n",
              "          dataTable['output_type'] = 'display_data';\n",
              "          await google.colab.output.renderOutput(dataTable, element);\n",
              "          const docLink = document.createElement('div');\n",
              "          docLink.innerHTML = docLinkHtml;\n",
              "          element.appendChild(docLink);\n",
              "        }\n",
              "      </script>\n",
              "    </div>\n",
              "  </div>\n",
              "  "
            ],
            "text/plain": [
              "   Rpt Dist No  Crm Cd  Vict Age  Vict Sex  Vict Descent  Premis Cd      LAT  \\\n",
              "0         1385     900        48         1             1      501.0  33.9825   \n",
              "3          646     900        47         2             2      101.0  34.1016   \n",
              "4          176     122        47         2             1      103.0  34.0387   \n",
              "5          162     442        23         1             3      404.0  34.0480   \n",
              "6          182     330        46         1             1      101.0  34.0389   \n",
              "\n",
              "        LON  Violent  \n",
              "0 -118.2695      0.0  \n",
              "3 -118.3295      1.0  \n",
              "4 -118.2488      1.0  \n",
              "5 -118.2577      0.0  \n",
              "6 -118.2643      0.0  "
            ]
          },
          "execution_count": 159,
          "metadata": {},
          "output_type": "execute_result"
        }
      ],
      "source": [
        "crime_data_binary.head()"
      ]
    },
    {
      "cell_type": "markdown",
      "metadata": {
        "id": "eh-5j6XePha0"
      },
      "source": [
        "Now, what we can see is that there are different categories of crime types. Since the goal of this project is to predict what crime could possibly happen, we can map categories of crimes to one type and use it to build our prediction model."
      ]
    },
    {
      "cell_type": "code",
      "execution_count": null,
      "metadata": {
        "id": "H_23yW8_OL3P"
      },
      "outputs": [],
      "source": [
        "X=crime_data_binary.drop(columns=['Violent'])\n",
        "y=crime_data_binary['Violent']"
      ]
    },
    {
      "cell_type": "code",
      "execution_count": null,
      "metadata": {
        "colab": {
          "base_uri": "https://localhost:8080/",
          "height": 206
        },
        "id": "MQMNrUZ4o50i",
        "outputId": "672201b6-2eca-4c27-bcbb-96eb856e9233"
      },
      "outputs": [
        {
          "data": {
            "text/html": [
              "\n",
              "  <div id=\"df-593dfe2b-a44f-4f6a-94e2-fbcb46fc9bdf\">\n",
              "    <div class=\"colab-df-container\">\n",
              "      <div>\n",
              "<style scoped>\n",
              "    .dataframe tbody tr th:only-of-type {\n",
              "        vertical-align: middle;\n",
              "    }\n",
              "\n",
              "    .dataframe tbody tr th {\n",
              "        vertical-align: top;\n",
              "    }\n",
              "\n",
              "    .dataframe thead th {\n",
              "        text-align: right;\n",
              "    }\n",
              "</style>\n",
              "<table border=\"1\" class=\"dataframe\">\n",
              "  <thead>\n",
              "    <tr style=\"text-align: right;\">\n",
              "      <th></th>\n",
              "      <th>Rpt Dist No</th>\n",
              "      <th>Crm Cd</th>\n",
              "      <th>Vict Age</th>\n",
              "      <th>Vict Sex</th>\n",
              "      <th>Vict Descent</th>\n",
              "      <th>Premis Cd</th>\n",
              "      <th>LAT</th>\n",
              "      <th>LON</th>\n",
              "    </tr>\n",
              "  </thead>\n",
              "  <tbody>\n",
              "    <tr>\n",
              "      <th>0</th>\n",
              "      <td>1385</td>\n",
              "      <td>900</td>\n",
              "      <td>48</td>\n",
              "      <td>1</td>\n",
              "      <td>1</td>\n",
              "      <td>501.0</td>\n",
              "      <td>33.9825</td>\n",
              "      <td>-118.2695</td>\n",
              "    </tr>\n",
              "    <tr>\n",
              "      <th>3</th>\n",
              "      <td>646</td>\n",
              "      <td>900</td>\n",
              "      <td>47</td>\n",
              "      <td>2</td>\n",
              "      <td>2</td>\n",
              "      <td>101.0</td>\n",
              "      <td>34.1016</td>\n",
              "      <td>-118.3295</td>\n",
              "    </tr>\n",
              "    <tr>\n",
              "      <th>4</th>\n",
              "      <td>176</td>\n",
              "      <td>122</td>\n",
              "      <td>47</td>\n",
              "      <td>2</td>\n",
              "      <td>1</td>\n",
              "      <td>103.0</td>\n",
              "      <td>34.0387</td>\n",
              "      <td>-118.2488</td>\n",
              "    </tr>\n",
              "    <tr>\n",
              "      <th>5</th>\n",
              "      <td>162</td>\n",
              "      <td>442</td>\n",
              "      <td>23</td>\n",
              "      <td>1</td>\n",
              "      <td>3</td>\n",
              "      <td>404.0</td>\n",
              "      <td>34.0480</td>\n",
              "      <td>-118.2577</td>\n",
              "    </tr>\n",
              "    <tr>\n",
              "      <th>6</th>\n",
              "      <td>182</td>\n",
              "      <td>330</td>\n",
              "      <td>46</td>\n",
              "      <td>1</td>\n",
              "      <td>1</td>\n",
              "      <td>101.0</td>\n",
              "      <td>34.0389</td>\n",
              "      <td>-118.2643</td>\n",
              "    </tr>\n",
              "  </tbody>\n",
              "</table>\n",
              "</div>\n",
              "      <button class=\"colab-df-convert\" onclick=\"convertToInteractive('df-593dfe2b-a44f-4f6a-94e2-fbcb46fc9bdf')\"\n",
              "              title=\"Convert this dataframe to an interactive table.\"\n",
              "              style=\"display:none;\">\n",
              "        \n",
              "  <svg xmlns=\"http://www.w3.org/2000/svg\" height=\"24px\"viewBox=\"0 0 24 24\"\n",
              "       width=\"24px\">\n",
              "    <path d=\"M0 0h24v24H0V0z\" fill=\"none\"/>\n",
              "    <path d=\"M18.56 5.44l.94 2.06.94-2.06 2.06-.94-2.06-.94-.94-2.06-.94 2.06-2.06.94zm-11 1L8.5 8.5l.94-2.06 2.06-.94-2.06-.94L8.5 2.5l-.94 2.06-2.06.94zm10 10l.94 2.06.94-2.06 2.06-.94-2.06-.94-.94-2.06-.94 2.06-2.06.94z\"/><path d=\"M17.41 7.96l-1.37-1.37c-.4-.4-.92-.59-1.43-.59-.52 0-1.04.2-1.43.59L10.3 9.45l-7.72 7.72c-.78.78-.78 2.05 0 2.83L4 21.41c.39.39.9.59 1.41.59.51 0 1.02-.2 1.41-.59l7.78-7.78 2.81-2.81c.8-.78.8-2.07 0-2.86zM5.41 20L4 18.59l7.72-7.72 1.47 1.35L5.41 20z\"/>\n",
              "  </svg>\n",
              "      </button>\n",
              "      \n",
              "  <style>\n",
              "    .colab-df-container {\n",
              "      display:flex;\n",
              "      flex-wrap:wrap;\n",
              "      gap: 12px;\n",
              "    }\n",
              "\n",
              "    .colab-df-convert {\n",
              "      background-color: #E8F0FE;\n",
              "      border: none;\n",
              "      border-radius: 50%;\n",
              "      cursor: pointer;\n",
              "      display: none;\n",
              "      fill: #1967D2;\n",
              "      height: 32px;\n",
              "      padding: 0 0 0 0;\n",
              "      width: 32px;\n",
              "    }\n",
              "\n",
              "    .colab-df-convert:hover {\n",
              "      background-color: #E2EBFA;\n",
              "      box-shadow: 0px 1px 2px rgba(60, 64, 67, 0.3), 0px 1px 3px 1px rgba(60, 64, 67, 0.15);\n",
              "      fill: #174EA6;\n",
              "    }\n",
              "\n",
              "    [theme=dark] .colab-df-convert {\n",
              "      background-color: #3B4455;\n",
              "      fill: #D2E3FC;\n",
              "    }\n",
              "\n",
              "    [theme=dark] .colab-df-convert:hover {\n",
              "      background-color: #434B5C;\n",
              "      box-shadow: 0px 1px 3px 1px rgba(0, 0, 0, 0.15);\n",
              "      filter: drop-shadow(0px 1px 2px rgba(0, 0, 0, 0.3));\n",
              "      fill: #FFFFFF;\n",
              "    }\n",
              "  </style>\n",
              "\n",
              "      <script>\n",
              "        const buttonEl =\n",
              "          document.querySelector('#df-593dfe2b-a44f-4f6a-94e2-fbcb46fc9bdf button.colab-df-convert');\n",
              "        buttonEl.style.display =\n",
              "          google.colab.kernel.accessAllowed ? 'block' : 'none';\n",
              "\n",
              "        async function convertToInteractive(key) {\n",
              "          const element = document.querySelector('#df-593dfe2b-a44f-4f6a-94e2-fbcb46fc9bdf');\n",
              "          const dataTable =\n",
              "            await google.colab.kernel.invokeFunction('convertToInteractive',\n",
              "                                                     [key], {});\n",
              "          if (!dataTable) return;\n",
              "\n",
              "          const docLinkHtml = 'Like what you see? Visit the ' +\n",
              "            '<a target=\"_blank\" href=https://colab.research.google.com/notebooks/data_table.ipynb>data table notebook</a>'\n",
              "            + ' to learn more about interactive tables.';\n",
              "          element.innerHTML = '';\n",
              "          dataTable['output_type'] = 'display_data';\n",
              "          await google.colab.output.renderOutput(dataTable, element);\n",
              "          const docLink = document.createElement('div');\n",
              "          docLink.innerHTML = docLinkHtml;\n",
              "          element.appendChild(docLink);\n",
              "        }\n",
              "      </script>\n",
              "    </div>\n",
              "  </div>\n",
              "  "
            ],
            "text/plain": [
              "   Rpt Dist No  Crm Cd  Vict Age  Vict Sex  Vict Descent  Premis Cd      LAT  \\\n",
              "0         1385     900        48         1             1      501.0  33.9825   \n",
              "3          646     900        47         2             2      101.0  34.1016   \n",
              "4          176     122        47         2             1      103.0  34.0387   \n",
              "5          162     442        23         1             3      404.0  34.0480   \n",
              "6          182     330        46         1             1      101.0  34.0389   \n",
              "\n",
              "        LON  \n",
              "0 -118.2695  \n",
              "3 -118.3295  \n",
              "4 -118.2488  \n",
              "5 -118.2577  \n",
              "6 -118.2643  "
            ]
          },
          "execution_count": 161,
          "metadata": {},
          "output_type": "execute_result"
        }
      ],
      "source": [
        "X.head()"
      ]
    },
    {
      "cell_type": "code",
      "execution_count": null,
      "metadata": {
        "colab": {
          "base_uri": "https://localhost:8080/"
        },
        "id": "Gc2s4We5qUyb",
        "outputId": "f5b8f498-c3a3-4964-e4d9-c0c1f9137f15"
      },
      "outputs": [
        {
          "data": {
            "text/plain": [
              "0    0.0\n",
              "3    1.0\n",
              "4    1.0\n",
              "5    0.0\n",
              "6    0.0\n",
              "Name: Violent, dtype: float64"
            ]
          },
          "execution_count": 162,
          "metadata": {},
          "output_type": "execute_result"
        }
      ],
      "source": [
        "y.head()"
      ]
    },
    {
      "cell_type": "markdown",
      "metadata": {
        "id": "XBjeOk2uX8WT"
      },
      "source": [
        "Test Train Split"
      ]
    },
    {
      "cell_type": "code",
      "execution_count": null,
      "metadata": {
        "id": "h_kGUqgJX-SB"
      },
      "outputs": [],
      "source": [
        "#Splitting the dataset to 80% training and 20% testing.\n",
        "from sklearn.model_selection import train_test_split\n",
        "X_train,X_test,y_train,y_test=train_test_split(X,y,test_size=0.2,random_state=1)"
      ]
    },
    {
      "cell_type": "markdown",
      "metadata": {
        "id": "R_AnQeL9vE9E"
      },
      "source": [
        "Scaling the data (Data transformation)"
      ]
    },
    {
      "cell_type": "code",
      "execution_count": null,
      "metadata": {
        "id": "u6zYR0UIvG-i"
      },
      "outputs": [],
      "source": [
        "from sklearn.preprocessing import StandardScaler\n",
        "sc=StandardScaler()\n",
        "X_train=sc.fit_transform(X_train)\n",
        "X_test=sc.transform(X_test)"
      ]
    },
    {
      "cell_type": "markdown",
      "metadata": {
        "id": "-WfMguURykQg"
      },
      "source": [
        "### **Machine Learning models**"
      ]
    },
    {
      "cell_type": "markdown",
      "metadata": {
        "id": "FMrvYW4iqvgB"
      },
      "source": [
        "Logistic Regression"
      ]
    },
    {
      "cell_type": "code",
      "execution_count": null,
      "metadata": {
        "colab": {
          "base_uri": "https://localhost:8080/"
        },
        "id": "9aiqqLc9PGOZ",
        "outputId": "9fa5003c-8ccb-4a66-c3b1-25b9b7b68b5c"
      },
      "outputs": [
        {
          "name": "stdout",
          "output_type": "stream",
          "text": [
            "Logistic Regression accuracy: 0.6279650436953808\n"
          ]
        }
      ],
      "source": [
        "lr=LogisticRegression(max_iter=5000)\n",
        "lr.fit(X_train,y_train)\n",
        "y_pred_lr=lr.predict(X_test)\n",
        "cm=confusion_matrix(y_test,y_pred_lr)\n",
        "print(\"Logistic Regression accuracy:\",accuracy_score(y_test,y_pred_lr))"
      ]
    },
    {
      "cell_type": "markdown",
      "metadata": {
        "id": "PKm_jXv7Xba1"
      },
      "source": [
        "Gaussian Naive Bayes Classifier"
      ]
    },
    {
      "cell_type": "code",
      "execution_count": null,
      "metadata": {
        "colab": {
          "base_uri": "https://localhost:8080/"
        },
        "id": "nY5OdUdqXdfX",
        "outputId": "cff54c0d-4db1-4de1-b992-e2fce89240ae"
      },
      "outputs": [
        {
          "name": "stdout",
          "output_type": "stream",
          "text": [
            "GNB accuracy: 0.6234776810111858\n"
          ]
        }
      ],
      "source": [
        "from sklearn.naive_bayes import GaussianNB\n",
        "gnb=GaussianNB()\n",
        "gnb.fit(X_train,y_train)\n",
        "y_pred_gnb=gnb.predict(X_test)\n",
        "print(\"GNB accuracy:\",accuracy_score(y_test,y_pred_gnb))\n",
        "#gnb.score(y_test,y_pred_gnb)"
      ]
    },
    {
      "cell_type": "markdown",
      "metadata": {
        "id": "022rWwiSY5Mx"
      },
      "source": [
        "Bernoulli Naive Bayes Classifer"
      ]
    },
    {
      "cell_type": "code",
      "execution_count": null,
      "metadata": {
        "colab": {
          "base_uri": "https://localhost:8080/"
        },
        "id": "-DfZnA8QYgqf",
        "outputId": "f3b4b2cc-893a-414d-c3fd-ca6af8d57412"
      },
      "outputs": [
        {
          "name": "stdout",
          "output_type": "stream",
          "text": [
            "BNB accuracy: 0.6711941398553014\n"
          ]
        }
      ],
      "source": [
        "from sklearn.naive_bayes import BernoulliNB\n",
        "BNB=BernoulliNB(binarize=0.0)\n",
        "BNB.fit(X_train,y_train)\n",
        "y_pred_bnb=BNB.predict(X_test)\n",
        "print(\"BNB accuracy:\",accuracy_score(y_test,y_pred_bnb))\n",
        "#BNB.score(y_test,y_pred_bnb)"
      ]
    },
    {
      "cell_type": "markdown",
      "metadata": {
        "id": "2YTiSNWMrRpL"
      },
      "source": [
        "Random Forest Classifier"
      ]
    },
    {
      "cell_type": "code",
      "execution_count": null,
      "metadata": {
        "colab": {
          "base_uri": "https://localhost:8080/"
        },
        "id": "3QR2U2hPqsrS",
        "outputId": "5be8a8e0-c2bc-4668-f055-3808a853eb96"
      },
      "outputs": [
        {
          "output_type": "error",
          "ename": "NameError",
          "evalue": "ignored",
          "traceback": [
            "\u001b[0;31m---------------------------------------------------------------------------\u001b[0m",
            "\u001b[0;31mNameError\u001b[0m                                 Traceback (most recent call last)",
            "\u001b[0;32m<ipython-input-1-07bb3dc2e971>\u001b[0m in \u001b[0;36m<module>\u001b[0;34m\u001b[0m\n\u001b[1;32m      1\u001b[0m \u001b[0;31m#n_estimators is the number of trees you want to build before taking the maximum voting or averages of predictions.\u001b[0m\u001b[0;34m\u001b[0m\u001b[0;34m\u001b[0m\u001b[0;34m\u001b[0m\u001b[0m\n\u001b[1;32m      2\u001b[0m \u001b[0;34m\u001b[0m\u001b[0m\n\u001b[0;32m----> 3\u001b[0;31m \u001b[0mrf\u001b[0m\u001b[0;34m=\u001b[0m\u001b[0mRandomForestClassifier\u001b[0m\u001b[0;34m(\u001b[0m\u001b[0mn_estimators\u001b[0m\u001b[0;34m=\u001b[0m\u001b[0;36m100\u001b[0m\u001b[0;34m)\u001b[0m\u001b[0;34m\u001b[0m\u001b[0;34m\u001b[0m\u001b[0m\n\u001b[0m\u001b[1;32m      4\u001b[0m \u001b[0mrf\u001b[0m\u001b[0;34m.\u001b[0m\u001b[0mfit\u001b[0m\u001b[0;34m(\u001b[0m\u001b[0mX_train\u001b[0m\u001b[0;34m,\u001b[0m\u001b[0my_train\u001b[0m\u001b[0;34m)\u001b[0m\u001b[0;34m\u001b[0m\u001b[0;34m\u001b[0m\u001b[0m\n\u001b[1;32m      5\u001b[0m \u001b[0my_pred_rf\u001b[0m\u001b[0;34m=\u001b[0m\u001b[0mrf\u001b[0m\u001b[0;34m.\u001b[0m\u001b[0mpredict\u001b[0m\u001b[0;34m(\u001b[0m\u001b[0mX_test\u001b[0m\u001b[0;34m)\u001b[0m\u001b[0;34m\u001b[0m\u001b[0;34m\u001b[0m\u001b[0m\n",
            "\u001b[0;31mNameError\u001b[0m: name 'RandomForestClassifier' is not defined"
          ]
        }
      ],
      "source": [
        "#n_estimators is the number of trees you want to build before taking the maximum voting or averages of predictions.\n",
        "\n",
        "rf=RandomForestClassifier(n_estimators=100)\n",
        "rf.fit(X_train,y_train)\n",
        "y_pred_rf=rf.predict(X_test)\n",
        "print(\"Random Forest Accuracy:\",accuracy_score(y_test,y_pred_rf))"
      ]
    },
    {
      "cell_type": "markdown",
      "metadata": {
        "id": "mEGjukJPvx1u"
      },
      "source": [
        "K Nearest neighbours"
      ]
    },
    {
      "cell_type": "code",
      "execution_count": null,
      "metadata": {
        "colab": {
          "base_uri": "https://localhost:8080/"
        },
        "id": "J5cmrU8VvxOo",
        "outputId": "454f9a58-5c5c-4f62-db6e-41cc2dea0dcf"
      },
      "outputs": [
        {
          "name": "stdout",
          "output_type": "stream",
          "text": [
            "KNN accuracy: 0.923519295659542\n"
          ]
        }
      ],
      "source": [
        "knn=KNeighborsClassifier(n_neighbors=7)\n",
        "knn.fit(X_train,y_train)\n",
        "y_pred_knn=knn.predict(X_test)\n",
        "print(\"KNN accuracy:\",accuracy_score(y_test,y_pred_knn))"
      ]
    },
    {
      "cell_type": "markdown",
      "metadata": {
        "id": "5pmDUuZ6qUaN"
      },
      "source": [
        "Neural Networks"
      ]
    },
    {
      "cell_type": "code",
      "execution_count": null,
      "metadata": {
        "colab": {
          "base_uri": "https://localhost:8080/"
        },
        "id": "ah-Slj2gz8n-",
        "outputId": "d1c43129-328c-4acc-f0d5-f711b24c3d33"
      },
      "outputs": [
        {
          "name": "stdout",
          "output_type": "stream",
          "text": [
            "Neural networks accuracy: 0.848179233789089\n"
          ]
        }
      ],
      "source": [
        "from sklearn.neural_network import MLPClassifier\n",
        "NN=MLPClassifier(solver='lbfgs',alpha=1e-5,hidden_layer_sizes=(5,2),random_state=1,max_iter=5000)\n",
        "NN.fit(X_train,y_train)\n",
        "y_pred_nn=NN.predict(X_test)\n",
        "print(\"Neural networks accuracy:\",accuracy_score(y_test,y_pred_nn))"
      ]
    },
    {
      "cell_type": "code",
      "execution_count": null,
      "metadata": {
        "id": "aakWW4hNqdn7"
      },
      "outputs": [],
      "source": [
        "#model.save('drive/MyDrive/model.h5') #If using Google Colab"
      ]
    },
    {
      "cell_type": "markdown",
      "metadata": {
        "id": "I1Q3bhp08-Hh"
      },
      "source": [
        "### **Mapping crime types for multi-class classification**"
      ]
    },
    {
      "cell_type": "code",
      "execution_count": null,
      "metadata": {
        "id": "oM4Av1TOHG_H"
      },
      "outputs": [],
      "source": [
        "#grouping the values of the crime type bbased on the LA county' s police department to aid in the prediction of data\n",
        "def crime_mapping(i):\n",
        "  if i in range(207,211):\n",
        "    return 0 #kidnap\n",
        "  if i in range(220,222):\n",
        "    return 1 #intent to murder or commit felony\n",
        "  elif i in range(230,231):\n",
        "    return 2 #crime against employers\n",
        "  elif i in range(236,238):\n",
        "    return 3 #Human trafficking\n",
        "  elif i in range(302,311):\n",
        "    return 4 #crime against religion and offence against good morals\n",
        "  elif i in range(346,368):\n",
        "    return 5 #injuries\n",
        "  elif i in range(403,423):\n",
        "    return 6 #crimes against public peace\n",
        "  else:\n",
        "    return 7 #others"
      ]
    },
    {
      "cell_type": "code",
      "execution_count": null,
      "metadata": {
        "colab": {
          "base_uri": "https://localhost:8080/"
        },
        "id": "h07lj6_f87PH",
        "outputId": "6e9f8562-cfd0-4d8b-cea9-3f1f0e04d451"
      },
      "outputs": [
        {
          "data": {
            "text/plain": [
              "DR_NO                      int64\n",
              "Date Rptd                 object\n",
              "DATE OCC          datetime64[ns]\n",
              "TIME OCC                   int64\n",
              "AREA                     float64\n",
              "AREA NAME                 object\n",
              "Rpt Dist No                int64\n",
              "Part 1-2                   int64\n",
              "Crm Cd                     int64\n",
              "Crm Cd Desc               object\n",
              "Mocodes                   object\n",
              "Vict Age                   int64\n",
              "Vict Sex                   int64\n",
              "Vict Descent               int64\n",
              "Premis Cd                float64\n",
              "Premis Desc               object\n",
              "Weapon Used Cd           float64\n",
              "Weapon Desc               object\n",
              "Status                    object\n",
              "Status Desc               object\n",
              "Crm Cd 1                 float64\n",
              "Crm Cd 2                 float64\n",
              "Crm Cd 3                 float64\n",
              "Crm Cd 4                 float64\n",
              "LOCATION                  object\n",
              "Cross Street              object\n",
              "LAT                      float64\n",
              "LON                      float64\n",
              "Year                       int64\n",
              "Month                      int64\n",
              "Day                        int64\n",
              "Violent                  float64\n",
              "dtype: object"
            ]
          },
          "execution_count": 173,
          "metadata": {},
          "output_type": "execute_result"
        }
      ],
      "source": [
        "crime_data.dtypes"
      ]
    },
    {
      "cell_type": "code",
      "execution_count": null,
      "metadata": {
        "id": "I8ifRlx2HLqW"
      },
      "outputs": [],
      "source": [
        "crime_data_multi=crime_data[['Rpt Dist No','Crm Cd','Vict Age','Vict Sex','Vict Descent','Premis Cd','LAT','LON']]"
      ]
    },
    {
      "cell_type": "code",
      "execution_count": null,
      "metadata": {
        "colab": {
          "base_uri": "https://localhost:8080/"
        },
        "id": "DZh0qlU0HSwv",
        "outputId": "752f3aab-d494-4419-9b4b-0b250ce11b9c"
      },
      "outputs": [
        {
          "name": "stderr",
          "output_type": "stream",
          "text": [
            "/usr/local/lib/python3.7/dist-packages/ipykernel_launcher.py:2: SettingWithCopyWarning: \n",
            "A value is trying to be set on a copy of a slice from a DataFrame.\n",
            "Try using .loc[row_indexer,col_indexer] = value instead\n",
            "\n",
            "See the caveats in the documentation: https://pandas.pydata.org/pandas-docs/stable/user_guide/indexing.html#returning-a-view-versus-a-copy\n",
            "  \n"
          ]
        }
      ],
      "source": [
        "#Assignning the mapped values\n",
        "crime_data_multi['Crime Type']=crime_data_multi['Crm Cd'].apply(crime_mapping)"
      ]
    },
    {
      "cell_type": "code",
      "execution_count": null,
      "metadata": {
        "colab": {
          "base_uri": "https://localhost:8080/",
          "height": 424
        },
        "id": "ssGx2CI09B6W",
        "outputId": "b2c6f1e1-423e-4dff-f5a1-a385e47eea28"
      },
      "outputs": [
        {
          "data": {
            "text/html": [
              "\n",
              "  <div id=\"df-c7abd073-1e79-4243-8524-e16efd8f7de9\">\n",
              "    <div class=\"colab-df-container\">\n",
              "      <div>\n",
              "<style scoped>\n",
              "    .dataframe tbody tr th:only-of-type {\n",
              "        vertical-align: middle;\n",
              "    }\n",
              "\n",
              "    .dataframe tbody tr th {\n",
              "        vertical-align: top;\n",
              "    }\n",
              "\n",
              "    .dataframe thead th {\n",
              "        text-align: right;\n",
              "    }\n",
              "</style>\n",
              "<table border=\"1\" class=\"dataframe\">\n",
              "  <thead>\n",
              "    <tr style=\"text-align: right;\">\n",
              "      <th></th>\n",
              "      <th>Rpt Dist No</th>\n",
              "      <th>Vict Age</th>\n",
              "      <th>Vict Sex</th>\n",
              "      <th>Vict Descent</th>\n",
              "      <th>Premis Cd</th>\n",
              "      <th>LAT</th>\n",
              "      <th>LON</th>\n",
              "      <th>Crime Type</th>\n",
              "    </tr>\n",
              "  </thead>\n",
              "  <tbody>\n",
              "    <tr>\n",
              "      <th>0</th>\n",
              "      <td>1385</td>\n",
              "      <td>48</td>\n",
              "      <td>1</td>\n",
              "      <td>1</td>\n",
              "      <td>501.0</td>\n",
              "      <td>33.9825</td>\n",
              "      <td>-118.2695</td>\n",
              "      <td>7</td>\n",
              "    </tr>\n",
              "    <tr>\n",
              "      <th>3</th>\n",
              "      <td>646</td>\n",
              "      <td>47</td>\n",
              "      <td>2</td>\n",
              "      <td>2</td>\n",
              "      <td>101.0</td>\n",
              "      <td>34.1016</td>\n",
              "      <td>-118.3295</td>\n",
              "      <td>7</td>\n",
              "    </tr>\n",
              "    <tr>\n",
              "      <th>4</th>\n",
              "      <td>176</td>\n",
              "      <td>47</td>\n",
              "      <td>2</td>\n",
              "      <td>1</td>\n",
              "      <td>103.0</td>\n",
              "      <td>34.0387</td>\n",
              "      <td>-118.2488</td>\n",
              "      <td>7</td>\n",
              "    </tr>\n",
              "    <tr>\n",
              "      <th>5</th>\n",
              "      <td>162</td>\n",
              "      <td>23</td>\n",
              "      <td>1</td>\n",
              "      <td>3</td>\n",
              "      <td>404.0</td>\n",
              "      <td>34.0480</td>\n",
              "      <td>-118.2577</td>\n",
              "      <td>7</td>\n",
              "    </tr>\n",
              "    <tr>\n",
              "      <th>6</th>\n",
              "      <td>182</td>\n",
              "      <td>46</td>\n",
              "      <td>1</td>\n",
              "      <td>1</td>\n",
              "      <td>101.0</td>\n",
              "      <td>34.0389</td>\n",
              "      <td>-118.2643</td>\n",
              "      <td>7</td>\n",
              "    </tr>\n",
              "    <tr>\n",
              "      <th>...</th>\n",
              "      <td>...</td>\n",
              "      <td>...</td>\n",
              "      <td>...</td>\n",
              "      <td>...</td>\n",
              "      <td>...</td>\n",
              "      <td>...</td>\n",
              "      <td>...</td>\n",
              "      <td>...</td>\n",
              "    </tr>\n",
              "    <tr>\n",
              "      <th>326206</th>\n",
              "      <td>2143</td>\n",
              "      <td>44</td>\n",
              "      <td>1</td>\n",
              "      <td>2</td>\n",
              "      <td>101.0</td>\n",
              "      <td>34.1855</td>\n",
              "      <td>-118.6296</td>\n",
              "      <td>7</td>\n",
              "    </tr>\n",
              "    <tr>\n",
              "      <th>326207</th>\n",
              "      <td>1524</td>\n",
              "      <td>38</td>\n",
              "      <td>2</td>\n",
              "      <td>1</td>\n",
              "      <td>108.0</td>\n",
              "      <td>34.1867</td>\n",
              "      <td>-118.3965</td>\n",
              "      <td>7</td>\n",
              "    </tr>\n",
              "    <tr>\n",
              "      <th>326209</th>\n",
              "      <td>564</td>\n",
              "      <td>41</td>\n",
              "      <td>2</td>\n",
              "      <td>3</td>\n",
              "      <td>502.0</td>\n",
              "      <td>33.7424</td>\n",
              "      <td>-118.2814</td>\n",
              "      <td>7</td>\n",
              "    </tr>\n",
              "    <tr>\n",
              "      <th>326210</th>\n",
              "      <td>1798</td>\n",
              "      <td>40</td>\n",
              "      <td>1</td>\n",
              "      <td>1</td>\n",
              "      <td>501.0</td>\n",
              "      <td>34.2302</td>\n",
              "      <td>-118.4775</td>\n",
              "      <td>7</td>\n",
              "    </tr>\n",
              "    <tr>\n",
              "      <th>326211</th>\n",
              "      <td>363</td>\n",
              "      <td>15</td>\n",
              "      <td>2</td>\n",
              "      <td>1</td>\n",
              "      <td>101.0</td>\n",
              "      <td>34.0088</td>\n",
              "      <td>-118.3351</td>\n",
              "      <td>5</td>\n",
              "    </tr>\n",
              "  </tbody>\n",
              "</table>\n",
              "<p>1994488 rows × 8 columns</p>\n",
              "</div>\n",
              "      <button class=\"colab-df-convert\" onclick=\"convertToInteractive('df-c7abd073-1e79-4243-8524-e16efd8f7de9')\"\n",
              "              title=\"Convert this dataframe to an interactive table.\"\n",
              "              style=\"display:none;\">\n",
              "        \n",
              "  <svg xmlns=\"http://www.w3.org/2000/svg\" height=\"24px\"viewBox=\"0 0 24 24\"\n",
              "       width=\"24px\">\n",
              "    <path d=\"M0 0h24v24H0V0z\" fill=\"none\"/>\n",
              "    <path d=\"M18.56 5.44l.94 2.06.94-2.06 2.06-.94-2.06-.94-.94-2.06-.94 2.06-2.06.94zm-11 1L8.5 8.5l.94-2.06 2.06-.94-2.06-.94L8.5 2.5l-.94 2.06-2.06.94zm10 10l.94 2.06.94-2.06 2.06-.94-2.06-.94-.94-2.06-.94 2.06-2.06.94z\"/><path d=\"M17.41 7.96l-1.37-1.37c-.4-.4-.92-.59-1.43-.59-.52 0-1.04.2-1.43.59L10.3 9.45l-7.72 7.72c-.78.78-.78 2.05 0 2.83L4 21.41c.39.39.9.59 1.41.59.51 0 1.02-.2 1.41-.59l7.78-7.78 2.81-2.81c.8-.78.8-2.07 0-2.86zM5.41 20L4 18.59l7.72-7.72 1.47 1.35L5.41 20z\"/>\n",
              "  </svg>\n",
              "      </button>\n",
              "      \n",
              "  <style>\n",
              "    .colab-df-container {\n",
              "      display:flex;\n",
              "      flex-wrap:wrap;\n",
              "      gap: 12px;\n",
              "    }\n",
              "\n",
              "    .colab-df-convert {\n",
              "      background-color: #E8F0FE;\n",
              "      border: none;\n",
              "      border-radius: 50%;\n",
              "      cursor: pointer;\n",
              "      display: none;\n",
              "      fill: #1967D2;\n",
              "      height: 32px;\n",
              "      padding: 0 0 0 0;\n",
              "      width: 32px;\n",
              "    }\n",
              "\n",
              "    .colab-df-convert:hover {\n",
              "      background-color: #E2EBFA;\n",
              "      box-shadow: 0px 1px 2px rgba(60, 64, 67, 0.3), 0px 1px 3px 1px rgba(60, 64, 67, 0.15);\n",
              "      fill: #174EA6;\n",
              "    }\n",
              "\n",
              "    [theme=dark] .colab-df-convert {\n",
              "      background-color: #3B4455;\n",
              "      fill: #D2E3FC;\n",
              "    }\n",
              "\n",
              "    [theme=dark] .colab-df-convert:hover {\n",
              "      background-color: #434B5C;\n",
              "      box-shadow: 0px 1px 3px 1px rgba(0, 0, 0, 0.15);\n",
              "      filter: drop-shadow(0px 1px 2px rgba(0, 0, 0, 0.3));\n",
              "      fill: #FFFFFF;\n",
              "    }\n",
              "  </style>\n",
              "\n",
              "      <script>\n",
              "        const buttonEl =\n",
              "          document.querySelector('#df-c7abd073-1e79-4243-8524-e16efd8f7de9 button.colab-df-convert');\n",
              "        buttonEl.style.display =\n",
              "          google.colab.kernel.accessAllowed ? 'block' : 'none';\n",
              "\n",
              "        async function convertToInteractive(key) {\n",
              "          const element = document.querySelector('#df-c7abd073-1e79-4243-8524-e16efd8f7de9');\n",
              "          const dataTable =\n",
              "            await google.colab.kernel.invokeFunction('convertToInteractive',\n",
              "                                                     [key], {});\n",
              "          if (!dataTable) return;\n",
              "\n",
              "          const docLinkHtml = 'Like what you see? Visit the ' +\n",
              "            '<a target=\"_blank\" href=https://colab.research.google.com/notebooks/data_table.ipynb>data table notebook</a>'\n",
              "            + ' to learn more about interactive tables.';\n",
              "          element.innerHTML = '';\n",
              "          dataTable['output_type'] = 'display_data';\n",
              "          await google.colab.output.renderOutput(dataTable, element);\n",
              "          const docLink = document.createElement('div');\n",
              "          docLink.innerHTML = docLinkHtml;\n",
              "          element.appendChild(docLink);\n",
              "        }\n",
              "      </script>\n",
              "    </div>\n",
              "  </div>\n",
              "  "
            ],
            "text/plain": [
              "        Rpt Dist No  Vict Age  Vict Sex  Vict Descent  Premis Cd      LAT  \\\n",
              "0              1385        48         1             1      501.0  33.9825   \n",
              "3               646        47         2             2      101.0  34.1016   \n",
              "4               176        47         2             1      103.0  34.0387   \n",
              "5               162        23         1             3      404.0  34.0480   \n",
              "6               182        46         1             1      101.0  34.0389   \n",
              "...             ...       ...       ...           ...        ...      ...   \n",
              "326206         2143        44         1             2      101.0  34.1855   \n",
              "326207         1524        38         2             1      108.0  34.1867   \n",
              "326209          564        41         2             3      502.0  33.7424   \n",
              "326210         1798        40         1             1      501.0  34.2302   \n",
              "326211          363        15         2             1      101.0  34.0088   \n",
              "\n",
              "             LON  Crime Type  \n",
              "0      -118.2695           7  \n",
              "3      -118.3295           7  \n",
              "4      -118.2488           7  \n",
              "5      -118.2577           7  \n",
              "6      -118.2643           7  \n",
              "...          ...         ...  \n",
              "326206 -118.6296           7  \n",
              "326207 -118.3965           7  \n",
              "326209 -118.2814           7  \n",
              "326210 -118.4775           7  \n",
              "326211 -118.3351           5  \n",
              "\n",
              "[1994488 rows x 8 columns]"
            ]
          },
          "execution_count": 176,
          "metadata": {},
          "output_type": "execute_result"
        }
      ],
      "source": [
        "#Drop crime code\n",
        "crime_data_multi.drop(columns=['Crm Cd'])"
      ]
    },
    {
      "cell_type": "code",
      "execution_count": null,
      "metadata": {
        "id": "o8-yKrJvIWSF"
      },
      "outputs": [],
      "source": [
        "#Setting the feautes X and y\n",
        "X=crime_data_multi.drop(columns=['Crime Type'])\n",
        "y=crime_data_multi['Crime Type']"
      ]
    },
    {
      "cell_type": "code",
      "execution_count": null,
      "metadata": {
        "id": "72NnaySOIoiY"
      },
      "outputs": [],
      "source": [
        "#Test and train split\n",
        "from sklearn.model_selection import train_test_split\n",
        "X_train,X_test,y_train,y_test=train_test_split(X,y,test_size=0.2,random_state=1)"
      ]
    },
    {
      "cell_type": "code",
      "execution_count": null,
      "metadata": {
        "id": "ulBgAAHMIr66"
      },
      "outputs": [],
      "source": [
        "#Scale the data\n",
        "from sklearn.preprocessing import StandardScaler\n",
        "sc=StandardScaler()\n",
        "X_train=sc.fit_transform(X_train)\n",
        "X_test=sc.transform(X_test)"
      ]
    },
    {
      "cell_type": "markdown",
      "metadata": {
        "id": "nmsWmDgauuwv"
      },
      "source": [
        "**Multi class Random Forest classifier**"
      ]
    },
    {
      "cell_type": "code",
      "execution_count": null,
      "metadata": {
        "colab": {
          "base_uri": "https://localhost:8080/"
        },
        "id": "5b5X3TybQF4a",
        "outputId": "4e97aee9-901e-4fce-b740-066b8a1327b9"
      },
      "outputs": [
        {
          "name": "stdout",
          "output_type": "stream",
          "text": [
            "Multi class classification Random Forest Accuracy: 0.9746576819136722\n"
          ]
        }
      ],
      "source": [
        "rf=RandomForestClassifier(n_estimators=100,max_depth=10,random_state=0)\n",
        "rf.fit(X_train,y_train)\n",
        "y_pred_rf=rf.predict(X_test)\n",
        "print(\"Multi class classification Random Forest Accuracy:\",accuracy_score(y_test,y_pred_rf))"
      ]
    },
    {
      "cell_type": "markdown",
      "metadata": {
        "id": "OQVfzBFVvZlE"
      },
      "source": [
        "**Gaussian Naive Bayes**"
      ]
    },
    {
      "cell_type": "code",
      "execution_count": null,
      "metadata": {
        "colab": {
          "background_save": true
        },
        "id": "-T8P8zOLvIDa",
        "outputId": "ff41b3f4-4ca6-4af6-f211-2f96b5446fd1"
      },
      "outputs": [
        {
          "name": "stdout",
          "output_type": "stream",
          "text": [
            "Multi class GNB accuracy: 0.9884556954409398\n"
          ]
        }
      ],
      "source": [
        "from sklearn.naive_bayes import GaussianNB\n",
        "gnb=GaussianNB()\n",
        "gnb.fit(X_train,y_train)\n",
        "y_pred_gnb=gnb.predict(X_test)\n",
        "print(\"Multi class GNB accuracy:\",accuracy_score(y_test,y_pred_gnb))"
      ]
    },
    {
      "cell_type": "markdown",
      "metadata": {
        "id": "3UHna8LWvdHM"
      },
      "source": [
        "**Bernoulli Naive Bayes**"
      ]
    },
    {
      "cell_type": "code",
      "execution_count": null,
      "metadata": {
        "colab": {
          "background_save": true
        },
        "id": "aLQQPlmOvhjS",
        "outputId": "77133b00-930f-425d-c6d7-97d07efcab59"
      },
      "outputs": [
        {
          "name": "stdout",
          "output_type": "stream",
          "text": [
            "Multi class BNB accuracy: 0.6998255193056871\n"
          ]
        }
      ],
      "source": [
        "from sklearn.naive_bayes import BernoulliNB\n",
        "BNB=BernoulliNB(binarize=0.0)\n",
        "BNB.fit(X_train,y_train)\n",
        "y_pred_bnb=BNB.predict(X_test)\n",
        "print(\"Multi class BNB accuracy:\",accuracy_score(y_test,y_pred_bnb))"
      ]
    }
  ],
  "metadata": {
    "colab": {
      "provenance": []
    },
    "kernelspec": {
      "display_name": "Python 3",
      "name": "python3"
    },
    "language_info": {
      "name": "python"
    }
  },
  "nbformat": 4,
  "nbformat_minor": 0
}